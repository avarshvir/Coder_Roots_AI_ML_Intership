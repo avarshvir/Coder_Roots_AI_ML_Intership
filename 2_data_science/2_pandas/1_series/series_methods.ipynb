{
 "cells": [
  {
   "cell_type": "code",
   "execution_count": 1,
   "id": "06cbe077-8c9f-403e-ac59-8ebfcb1bab5b",
   "metadata": {},
   "outputs": [
    {
     "name": "stdout",
     "output_type": "stream",
     "text": [
      "0    10\n",
      "1    20\n",
      "2    30\n",
      "3    40\n",
      "dtype: int64\n"
     ]
    }
   ],
   "source": [
    "import pandas as pd\n",
    "\n",
    "# Creating a Series using a list\n",
    "data_list = [10, 20, 30, 40]\n",
    "series_list = pd.Series(data_list)\n",
    "\n",
    "print(series_list)\n"
   ]
  },
  {
   "cell_type": "markdown",
   "id": "04516c3e-0de3-4173-9290-e922a2377c41",
   "metadata": {},
   "source": [
    "## All Methods of Pandas Series"
   ]
  },
  {
   "cell_type": "markdown",
   "id": "6dea69a0-f633-4cee-a605-b0170c1ba4ce",
   "metadata": {},
   "source": [
    "#### Basic Info & Attributes"
   ]
  },
  {
   "cell_type": "code",
   "execution_count": 5,
   "id": "c6c896ca-6e52-449e-a2c5-ee081237b0c1",
   "metadata": {},
   "outputs": [
    {
     "data": {
      "text/plain": [
       "dtype('int64')"
      ]
     },
     "execution_count": 5,
     "metadata": {},
     "output_type": "execute_result"
    }
   ],
   "source": [
    "series_list.dtype"
   ]
  },
  {
   "cell_type": "code",
   "execution_count": 6,
   "id": "3cdcf909-d1dc-4da7-91d8-61eca9b88990",
   "metadata": {},
   "outputs": [
    {
     "data": {
      "text/plain": [
       "(4,)"
      ]
     },
     "execution_count": 6,
     "metadata": {},
     "output_type": "execute_result"
    }
   ],
   "source": [
    "series_list.shape"
   ]
  },
  {
   "cell_type": "code",
   "execution_count": 7,
   "id": "60aed369-47b7-494a-9ef5-98fd5396fa50",
   "metadata": {},
   "outputs": [
    {
     "data": {
      "text/plain": [
       "4"
      ]
     },
     "execution_count": 7,
     "metadata": {},
     "output_type": "execute_result"
    }
   ],
   "source": [
    "series_list.size"
   ]
  },
  {
   "cell_type": "code",
   "execution_count": 8,
   "id": "f86c5d21-e5ea-485e-a151-fd75b2fcc790",
   "metadata": {},
   "outputs": [
    {
     "data": {
      "text/plain": [
       "RangeIndex(start=0, stop=4, step=1)"
      ]
     },
     "execution_count": 8,
     "metadata": {},
     "output_type": "execute_result"
    }
   ],
   "source": [
    "series_list.index"
   ]
  },
  {
   "cell_type": "code",
   "execution_count": 9,
   "id": "a1dce923-ac7e-4f57-923f-c4bbe9babd74",
   "metadata": {},
   "outputs": [
    {
     "data": {
      "text/plain": [
       "array([10, 20, 30, 40], dtype=int64)"
      ]
     },
     "execution_count": 9,
     "metadata": {},
     "output_type": "execute_result"
    }
   ],
   "source": [
    "series_list.values"
   ]
  },
  {
   "cell_type": "code",
   "execution_count": 13,
   "id": "6ecc3664-3b04-45fd-88e7-820b0a325710",
   "metadata": {},
   "outputs": [],
   "source": [
    "data_list_2 = pd.Series({'a':'A','b':'B'})"
   ]
  },
  {
   "cell_type": "code",
   "execution_count": 14,
   "id": "cf5dfe7f-cee5-4d11-997a-597479da47e9",
   "metadata": {},
   "outputs": [
    {
     "data": {
      "text/plain": [
       "a    A\n",
       "b    B\n",
       "dtype: object"
      ]
     },
     "execution_count": 14,
     "metadata": {},
     "output_type": "execute_result"
    }
   ],
   "source": [
    "data_list_2"
   ]
  },
  {
   "cell_type": "code",
   "execution_count": 18,
   "id": "bcec0dc3-f4f8-41cb-a308-87322038f1c7",
   "metadata": {},
   "outputs": [
    {
     "data": {
      "text/plain": [
       "Index(['a', 'b'], dtype='object')"
      ]
     },
     "execution_count": 18,
     "metadata": {},
     "output_type": "execute_result"
    }
   ],
   "source": [
    "data_list_2.index"
   ]
  },
  {
   "cell_type": "markdown",
   "id": "cc71614c-337c-4fc4-81dd-75f005a0fb75",
   "metadata": {},
   "source": [
    "#### Statistical Methods"
   ]
  },
  {
   "cell_type": "code",
   "execution_count": 19,
   "id": "cb5e628c-570b-46ef-a6f8-a6894e53c7ce",
   "metadata": {},
   "outputs": [
    {
     "data": {
      "text/plain": [
       "100"
      ]
     },
     "execution_count": 19,
     "metadata": {},
     "output_type": "execute_result"
    }
   ],
   "source": [
    "series_list.sum()"
   ]
  },
  {
   "cell_type": "code",
   "execution_count": 21,
   "id": "9dc37be5-c365-436e-9cfc-08b196065e72",
   "metadata": {},
   "outputs": [
    {
     "data": {
      "text/plain": [
       "'AB'"
      ]
     },
     "execution_count": 21,
     "metadata": {},
     "output_type": "execute_result"
    }
   ],
   "source": [
    "data_list_2.sum()"
   ]
  },
  {
   "cell_type": "code",
   "execution_count": 23,
   "id": "ef68dcb0-3014-4993-bd89-1d4be320d80b",
   "metadata": {},
   "outputs": [
    {
     "data": {
      "text/plain": [
       "25.0"
      ]
     },
     "execution_count": 23,
     "metadata": {},
     "output_type": "execute_result"
    }
   ],
   "source": [
    "series_list.mean()"
   ]
  },
  {
   "cell_type": "code",
   "execution_count": 24,
   "id": "b3a99bc2-c7be-45b7-a164-46bd0fe574f4",
   "metadata": {},
   "outputs": [
    {
     "data": {
      "text/plain": [
       "25.0"
      ]
     },
     "execution_count": 24,
     "metadata": {},
     "output_type": "execute_result"
    }
   ],
   "source": [
    "series_list.median()"
   ]
  },
  {
   "cell_type": "code",
   "execution_count": 25,
   "id": "fe313fd7-0f84-419e-ab98-e90c44332676",
   "metadata": {},
   "outputs": [
    {
     "data": {
      "text/plain": [
       "12.909944487358056"
      ]
     },
     "execution_count": 25,
     "metadata": {},
     "output_type": "execute_result"
    }
   ],
   "source": [
    "series_list.std()"
   ]
  },
  {
   "cell_type": "code",
   "execution_count": 26,
   "id": "46e03b62-d7c7-47db-98f9-effe22443715",
   "metadata": {},
   "outputs": [
    {
     "data": {
      "text/plain": [
       "10"
      ]
     },
     "execution_count": 26,
     "metadata": {},
     "output_type": "execute_result"
    }
   ],
   "source": [
    "series_list.min()"
   ]
  },
  {
   "cell_type": "code",
   "execution_count": 27,
   "id": "4270491c-ecd0-44e5-acbd-c9502324bbad",
   "metadata": {},
   "outputs": [
    {
     "data": {
      "text/plain": [
       "40"
      ]
     },
     "execution_count": 27,
     "metadata": {},
     "output_type": "execute_result"
    }
   ],
   "source": [
    "series_list.max()"
   ]
  },
  {
   "cell_type": "code",
   "execution_count": 28,
   "id": "8aace471-42f4-4e88-af8d-0dbaf5d0af95",
   "metadata": {},
   "outputs": [
    {
     "data": {
      "text/plain": [
       "count     4.000000\n",
       "mean     25.000000\n",
       "std      12.909944\n",
       "min      10.000000\n",
       "25%      17.500000\n",
       "50%      25.000000\n",
       "75%      32.500000\n",
       "max      40.000000\n",
       "dtype: float64"
      ]
     },
     "execution_count": 28,
     "metadata": {},
     "output_type": "execute_result"
    }
   ],
   "source": [
    "series_list.describe()"
   ]
  },
  {
   "cell_type": "markdown",
   "id": "8776f9c1-b143-4ffd-a56d-e40393c2f4df",
   "metadata": {},
   "source": [
    "#### Sorting & Ordering"
   ]
  },
  {
   "cell_type": "code",
   "execution_count": 29,
   "id": "ce3403aa-5219-48f5-bfc1-ca258a652061",
   "metadata": {},
   "outputs": [
    {
     "data": {
      "text/plain": [
       "0    10\n",
       "1    20\n",
       "2    30\n",
       "3    40\n",
       "dtype: int64"
      ]
     },
     "execution_count": 29,
     "metadata": {},
     "output_type": "execute_result"
    }
   ],
   "source": [
    "series_list.sort_values()"
   ]
  },
  {
   "cell_type": "code",
   "execution_count": 30,
   "id": "9be40719-cd0c-44f8-a9da-eba559b401e4",
   "metadata": {},
   "outputs": [
    {
     "data": {
      "text/plain": [
       "0    10\n",
       "1    20\n",
       "2    30\n",
       "3    40\n",
       "dtype: int64"
      ]
     },
     "execution_count": 30,
     "metadata": {},
     "output_type": "execute_result"
    }
   ],
   "source": [
    "series_list.sort_index()"
   ]
  },
  {
   "cell_type": "markdown",
   "id": "6385c641-f907-4efa-b7ae-9a8bc0d8e4a8",
   "metadata": {},
   "source": [
    "#### Filtering & Boolean Indexing"
   ]
  },
  {
   "cell_type": "code",
   "execution_count": 31,
   "id": "5bbe514f-71c8-4abb-bff5-d6e569679878",
   "metadata": {},
   "outputs": [
    {
     "data": {
      "text/plain": [
       "2    30\n",
       "3    40\n",
       "dtype: int64"
      ]
     },
     "execution_count": 31,
     "metadata": {},
     "output_type": "execute_result"
    }
   ],
   "source": [
    "series_list[series_list>20]"
   ]
  },
  {
   "cell_type": "markdown",
   "id": "c8ae62f3-dd8f-4db0-81d4-36ff01c58436",
   "metadata": {},
   "source": [
    "#### Handling Missing Values"
   ]
  },
  {
   "cell_type": "code",
   "execution_count": 32,
   "id": "3bb9757d-5e38-42cd-8133-d2d1ca460b09",
   "metadata": {},
   "outputs": [
    {
     "name": "stdout",
     "output_type": "stream",
     "text": [
      "0    False\n",
      "1    False\n",
      "2     True\n",
      "3    False\n",
      "4    False\n",
      "dtype: bool\n",
      "0    1.0\n",
      "1    2.0\n",
      "3    4.0\n",
      "4    5.0\n",
      "dtype: float64\n",
      "0    1.0\n",
      "1    2.0\n",
      "2    0.0\n",
      "3    4.0\n",
      "4    5.0\n",
      "dtype: float64\n"
     ]
    }
   ],
   "source": [
    "series_with_nan = pd.Series([1, 2, None, 4, 5])\n",
    "\n",
    "print(series_with_nan.isnull())  # Check missing values\n",
    "print(series_with_nan.dropna())  # Remove missing values\n",
    "print(series_with_nan.fillna(0)) # Replace NaN with 0"
   ]
  },
  {
   "cell_type": "markdown",
   "id": "ccaaf04b-4d12-410d-b585-1cc937a1bd3c",
   "metadata": {},
   "source": [
    "#### String Operations"
   ]
  },
  {
   "cell_type": "code",
   "execution_count": 33,
   "id": "a1831cf6-091b-4b2f-8377-13438a051935",
   "metadata": {},
   "outputs": [
    {
     "name": "stdout",
     "output_type": "stream",
     "text": [
      "0     APPLE\n",
      "1    BANANA\n",
      "2    CHERRY\n",
      "dtype: object\n",
      "0     True\n",
      "1     True\n",
      "2    False\n",
      "dtype: bool\n"
     ]
    }
   ],
   "source": [
    "series_str = pd.Series(['apple', 'banana', 'cherry'])\n",
    "\n",
    "print(series_str.str.upper())  # Convert to uppercase\n",
    "print(series_str.str.contains('a'))  # Check if 'a' is in string\n"
   ]
  },
  {
   "cell_type": "markdown",
   "id": "b9b62a72-efc9-4851-bba4-af642e99da01",
   "metadata": {},
   "source": [
    "#### Conversion & Exporting"
   ]
  },
  {
   "cell_type": "code",
   "execution_count": 34,
   "id": "39d4b301-35e6-40a3-958c-097edf27bdcf",
   "metadata": {},
   "outputs": [
    {
     "name": "stdout",
     "output_type": "stream",
     "text": [
      "[10, 20, 30, 40]\n",
      "{0: 10, 1: 20, 2: 30, 3: 40}\n"
     ]
    }
   ],
   "source": [
    "print(series_list.to_list())  # Convert to Python list\n",
    "print(series_list.to_dict())  # Convert to dictionary\n",
    "series_list.to_csv('series.csv')  # Save to CSV file\n"
   ]
  },
  {
   "cell_type": "code",
   "execution_count": null,
   "id": "c71a291c-5461-44b2-a835-4345495018bb",
   "metadata": {},
   "outputs": [],
   "source": []
  }
 ],
 "metadata": {
  "kernelspec": {
   "display_name": "Python 3 (ipykernel)",
   "language": "python",
   "name": "python3"
  },
  "language_info": {
   "codemirror_mode": {
    "name": "ipython",
    "version": 3
   },
   "file_extension": ".py",
   "mimetype": "text/x-python",
   "name": "python",
   "nbconvert_exporter": "python",
   "pygments_lexer": "ipython3",
   "version": "3.11.4"
  }
 },
 "nbformat": 4,
 "nbformat_minor": 5
}
