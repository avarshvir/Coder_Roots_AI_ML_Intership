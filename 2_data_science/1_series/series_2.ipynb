{
 "cells": [
  {
   "cell_type": "markdown",
   "id": "6efdcf4f-5a81-4472-9cf3-68eeb57251de",
   "metadata": {},
   "source": [
    "## s = pd.Series([10, 20, 30, 40, 50, 60, 70], index=['a', 'b', 'c', 'd', 'e', 'f', 'g'])"
   ]
  },
  {
   "cell_type": "markdown",
   "id": "be88bbe3-369d-41d0-8a8b-afa54a8b9cb3",
   "metadata": {},
   "source": [
    "### 1. Use the loc method to retrieve the value associated with index 'c'.  "
   ]
  },
  {
   "cell_type": "code",
   "execution_count": 2,
   "id": "846c9a97-73a8-4b29-b1c5-ac1ddcb8af60",
   "metadata": {},
   "outputs": [],
   "source": [
    "import pandas as pd"
   ]
  },
  {
   "cell_type": "code",
   "execution_count": 3,
   "id": "fa5f3696-d075-4e45-952a-8362c5a5b660",
   "metadata": {},
   "outputs": [],
   "source": [
    "s = pd.Series([10, 20, 30, 40, 50, 60, 70], index=['a', 'b', 'c', 'd', 'e', 'f', 'g'])"
   ]
  },
  {
   "cell_type": "code",
   "execution_count": 5,
   "id": "115df5e8-a1d7-466d-afca-4e63f31996b5",
   "metadata": {},
   "outputs": [
    {
     "data": {
      "text/plain": [
       "30"
      ]
     },
     "execution_count": 5,
     "metadata": {},
     "output_type": "execute_result"
    }
   ],
   "source": [
    "s.loc['c']"
   ]
  },
  {
   "cell_type": "markdown",
   "id": "f5a84431-1229-42c0-aa08-854d449e51cb",
   "metadata": {},
   "source": [
    "### 2. Use the iloc method to retrieve the value at the 4th position in the Series."
   ]
  },
  {
   "cell_type": "code",
   "execution_count": 6,
   "id": "296dd2d7-2260-44d4-a060-dce6ee14a190",
   "metadata": {},
   "outputs": [
    {
     "data": {
      "text/plain": [
       "40"
      ]
     },
     "execution_count": 6,
     "metadata": {},
     "output_type": "execute_result"
    }
   ],
   "source": [
    "s.iloc[3]"
   ]
  },
  {
   "cell_type": "markdown",
   "id": "ca9efdb3-bb25-42ab-8169-73ab0ecb34e1",
   "metadata": {},
   "source": [
    "### 3. Use the at method to update the value at index 'd' to 100."
   ]
  },
  {
   "cell_type": "code",
   "execution_count": 7,
   "id": "cb763bdf-8fd7-4864-afc0-1b470b655369",
   "metadata": {},
   "outputs": [],
   "source": [
    "s.at['d'] = 100"
   ]
  },
  {
   "cell_type": "markdown",
   "id": "51c7b3c4-d2d6-49f0-98bf-e58333996029",
   "metadata": {},
   "source": [
    "### 4. Use the iat method to change the value at position 6 to 200."
   ]
  },
  {
   "cell_type": "code",
   "execution_count": 9,
   "id": "4a201511-b8ee-456a-8322-0b3a880d5ce1",
   "metadata": {},
   "outputs": [],
   "source": [
    "s.iat[6] = 200"
   ]
  },
  {
   "cell_type": "markdown",
   "id": "52eda52f-2b52-4bed-a2c8-1a4ec24f8b4b",
   "metadata": {},
   "source": [
    "### 5. Add a new element with index 'h' and value 80 to the Series s."
   ]
  },
  {
   "cell_type": "code",
   "execution_count": 10,
   "id": "079592b5-4f2d-4938-8fd8-3ec67c25498c",
   "metadata": {},
   "outputs": [],
   "source": [
    "s['h'] = 80"
   ]
  },
  {
   "cell_type": "markdown",
   "id": "a7276470-d4f9-435d-a837-bb308ef53a07",
   "metadata": {},
   "source": [
    "### 6. Select all values in the Series that are between 30 and 70, inclusive, using the between() function."
   ]
  },
  {
   "cell_type": "code",
   "execution_count": 36,
   "id": "852a9073-563d-4321-b580-a75919344ae7",
   "metadata": {},
   "outputs": [],
   "source": [
    "s2 = pd.Series([10, 20, 30, 40, 50, 60, 70], index=['a', 'b', 'c', 'd', 'e', 'f', 'g'])\n",
    "s2_temp = s2[s2.between(30,80)]"
   ]
  },
  {
   "cell_type": "code",
   "execution_count": 37,
   "id": "c8ece31c-9887-4eb8-8dc0-8b14ef768e73",
   "metadata": {},
   "outputs": [
    {
     "data": {
      "text/plain": [
       "c    30\n",
       "d    40\n",
       "e    50\n",
       "f    60\n",
       "g    70\n",
       "dtype: int64"
      ]
     },
     "execution_count": 37,
     "metadata": {},
     "output_type": "execute_result"
    }
   ],
   "source": [
    "s2_temp"
   ]
  },
  {
   "cell_type": "markdown",
   "id": "5fe6863e-dff0-4909-86bb-7fb8f10bd9c4",
   "metadata": {},
   "source": [
    "### 7. Use the isin() function to check which values in the Series match the list [20, 50, 100]."
   ]
  },
  {
   "cell_type": "code",
   "execution_count": 38,
   "id": "84c0e5f4-63d5-4cbb-ae7d-fa57367f830f",
   "metadata": {},
   "outputs": [
    {
     "data": {
      "text/plain": [
       "a    False\n",
       "b     True\n",
       "c    False\n",
       "d     True\n",
       "e     True\n",
       "f    False\n",
       "g    False\n",
       "h    False\n",
       "dtype: bool"
      ]
     },
     "execution_count": 38,
     "metadata": {},
     "output_type": "execute_result"
    }
   ],
   "source": [
    "s.isin([20, 50, 100])"
   ]
  },
  {
   "cell_type": "markdown",
   "id": "beda04a1-25ba-46e5-aea8-d871c40e72e6",
   "metadata": {},
   "source": [
    "### 8. Create a new pandas Series s1 with values [5, 15, 25, 35, 45] and index ['p', 'q', 'r', 's', 't']. Use iloc to update the value at position 2 to 100"
   ]
  },
  {
   "cell_type": "code",
   "execution_count": 39,
   "id": "d82956f6-df31-4879-b048-bc4fe9d747c0",
   "metadata": {},
   "outputs": [],
   "source": [
    "s1 = pd.Series([5, 15, 25, 35, 45], index=['p', 'q', 'r', 's', 't'])"
   ]
  },
  {
   "cell_type": "code",
   "execution_count": 40,
   "id": "b0d1196f-d5e3-4a95-85f3-2deb0e925246",
   "metadata": {},
   "outputs": [
    {
     "data": {
      "text/plain": [
       "p     5\n",
       "q    15\n",
       "r    25\n",
       "s    35\n",
       "t    45\n",
       "dtype: int64"
      ]
     },
     "execution_count": 40,
     "metadata": {},
     "output_type": "execute_result"
    }
   ],
   "source": [
    "s1"
   ]
  },
  {
   "cell_type": "code",
   "execution_count": 41,
   "id": "4f9c404b-b386-4572-b544-602516d9dd40",
   "metadata": {},
   "outputs": [],
   "source": [
    "s1.iloc[2] = 100"
   ]
  },
  {
   "cell_type": "code",
   "execution_count": 43,
   "id": "f5b98f5c-8484-4b5b-9bb9-10934e6ec851",
   "metadata": {},
   "outputs": [
    {
     "data": {
      "text/plain": [
       "p      5\n",
       "q     15\n",
       "r    100\n",
       "s     35\n",
       "t     45\n",
       "dtype: int64"
      ]
     },
     "execution_count": 43,
     "metadata": {},
     "output_type": "execute_result"
    }
   ],
   "source": [
    "s1"
   ]
  },
  {
   "cell_type": "markdown",
   "id": "f71e8d87-cd11-432e-b468-ffbc86763155",
   "metadata": {},
   "source": [
    "##  s2 = pd.Series([5, 10, 15, 20, 25], index=['a', 'b', 'c', 'd', 'e'])  "
   ]
  },
  {
   "cell_type": "code",
   "execution_count": 44,
   "id": "5b350c34-a7f5-4a7a-a79a-34df66c5ad80",
   "metadata": {},
   "outputs": [],
   "source": [
    " s2 = pd.Series([5, 10, 15, 20, 25], index=['a', 'b', 'c', 'd', 'e'])  "
   ]
  },
  {
   "cell_type": "code",
   "execution_count": 45,
   "id": "285643c7-c219-430a-92f2-cdac263398a5",
   "metadata": {},
   "outputs": [
    {
     "data": {
      "text/plain": [
       "a     5\n",
       "b    10\n",
       "c    15\n",
       "d    20\n",
       "e    25\n",
       "dtype: int64"
      ]
     },
     "execution_count": 45,
     "metadata": {},
     "output_type": "execute_result"
    }
   ],
   "source": [
    "s2"
   ]
  },
  {
   "cell_type": "markdown",
   "id": "2c499102-f50c-4152-971f-38a226137833",
   "metadata": {},
   "source": [
    "### With the same Series s2, use iloc[] to get the last two elements."
   ]
  },
  {
   "cell_type": "code",
   "execution_count": 47,
   "id": "de1d1df2-05f0-4f10-90f4-2a768aa81f2a",
   "metadata": {},
   "outputs": [
    {
     "data": {
      "text/plain": [
       "d    20\n",
       "e    25\n",
       "dtype: int64"
      ]
     },
     "execution_count": 47,
     "metadata": {},
     "output_type": "execute_result"
    }
   ],
   "source": [
    "s2.iloc[-2:]"
   ]
  },
  {
   "cell_type": "markdown",
   "id": "7c7f3dde-79df-4f4b-8fbe-0635f16787f5",
   "metadata": {},
   "source": [
    "### Add a new element to Series s2 with index 'f' and value 50. Then display the updated Series."
   ]
  },
  {
   "cell_type": "code",
   "execution_count": 48,
   "id": "1332f585-d470-4598-8259-60b4fa7d9134",
   "metadata": {},
   "outputs": [],
   "source": [
    "s2['f'] = 50"
   ]
  },
  {
   "cell_type": "code",
   "execution_count": 49,
   "id": "d33ffcd5-8c4a-4dab-9308-ecfc00e18542",
   "metadata": {},
   "outputs": [
    {
     "data": {
      "text/plain": [
       "a     5\n",
       "b    10\n",
       "c    15\n",
       "d    20\n",
       "e    25\n",
       "f    50\n",
       "dtype: int64"
      ]
     },
     "execution_count": 49,
     "metadata": {},
     "output_type": "execute_result"
    }
   ],
   "source": [
    "s2"
   ]
  },
  {
   "cell_type": "code",
   "execution_count": null,
   "id": "422ef4b1-a0b6-41d3-9ecb-a8b13b7407a8",
   "metadata": {},
   "outputs": [],
   "source": []
  }
 ],
 "metadata": {
  "kernelspec": {
   "display_name": "Python 3 (ipykernel)",
   "language": "python",
   "name": "python3"
  },
  "language_info": {
   "codemirror_mode": {
    "name": "ipython",
    "version": 3
   },
   "file_extension": ".py",
   "mimetype": "text/x-python",
   "name": "python",
   "nbconvert_exporter": "python",
   "pygments_lexer": "ipython3",
   "version": "3.11.4"
  }
 },
 "nbformat": 4,
 "nbformat_minor": 5
}
