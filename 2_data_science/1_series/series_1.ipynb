{
 "cells": [
  {
   "cell_type": "markdown",
   "id": "e03eb7ca-c37d-422b-8f5e-6d10cfb28bdc",
   "metadata": {},
   "source": [
    "## 1. import pandas as pd\n",
    "     data = pd.Series([100, 200, 300, 400], index=['x', 'y', 'z', 'w'])  \n",
    "   \n",
    "      How would you access the value corresponding to the index 'y' using .loc[]?  "
   ]
  },
  {
   "cell_type": "code",
   "execution_count": 1,
   "id": "b3a15d25-297f-4b5c-b4c8-0a8e29371e7b",
   "metadata": {},
   "outputs": [],
   "source": [
    "import pandas as pd"
   ]
  },
  {
   "cell_type": "code",
   "execution_count": 23,
   "id": "6b71eafc-4053-4556-9821-4b1f20d44a38",
   "metadata": {},
   "outputs": [],
   "source": [
    "data = pd.Series([100, 200, 300, 400], index=['x', 'y', 'z', 'w'])"
   ]
  },
  {
   "cell_type": "code",
   "execution_count": 3,
   "id": "687dad10-e4da-4c80-964b-4c5f2b475e1d",
   "metadata": {},
   "outputs": [
    {
     "data": {
      "text/plain": [
       "x    100\n",
       "y    200\n",
       "z    300\n",
       "w    400\n",
       "dtype: int64"
      ]
     },
     "execution_count": 3,
     "metadata": {},
     "output_type": "execute_result"
    }
   ],
   "source": [
    "data"
   ]
  },
  {
   "cell_type": "code",
   "execution_count": 4,
   "id": "4a55953a-4ce4-4e69-a883-5f4ea4a2c2bf",
   "metadata": {},
   "outputs": [
    {
     "data": {
      "text/plain": [
       "200"
      ]
     },
     "execution_count": 4,
     "metadata": {},
     "output_type": "execute_result"
    }
   ],
   "source": [
    "data.loc['y']"
   ]
  },
  {
   "cell_type": "markdown",
   "id": "2c825e86-ed9a-4fa9-aec2-aecb0b05e2a5",
   "metadata": {},
   "source": [
    "## 2. Using the same Series as above:\n",
    "How would you access the 2nd element in the Series using .iloc[]?"
   ]
  },
  {
   "cell_type": "code",
   "execution_count": 5,
   "id": "a76b7a5b-ed3a-41c9-8c08-51be14fb18db",
   "metadata": {},
   "outputs": [
    {
     "data": {
      "text/plain": [
       "200"
      ]
     },
     "execution_count": 5,
     "metadata": {},
     "output_type": "execute_result"
    }
   ],
   "source": [
    "data.iloc[1]"
   ]
  },
  {
   "cell_type": "markdown",
   "id": "65429ec9-095c-4233-b5fd-7462dcc52422",
   "metadata": {},
   "source": [
    "## 3. How would you access multiple elements, say for indices 'x' and 'w', using .loc[]?"
   ]
  },
  {
   "cell_type": "code",
   "execution_count": 7,
   "id": "230ca1e8-041f-4d8c-9b76-bbe5072893d8",
   "metadata": {},
   "outputs": [
    {
     "data": {
      "text/plain": [
       "x    100\n",
       "w    400\n",
       "dtype: int64"
      ]
     },
     "execution_count": 7,
     "metadata": {},
     "output_type": "execute_result"
    }
   ],
   "source": [
    "data.loc[['x','w']]"
   ]
  },
  {
   "cell_type": "markdown",
   "id": "02894f1d-d1e9-487a-bd58-520bcc7fc317",
   "metadata": {},
   "source": [
    "## 4. With the same Series, how can you access the last element using .iloc[]?"
   ]
  },
  {
   "cell_type": "code",
   "execution_count": 8,
   "id": "54c67b86-1bed-4a36-9438-afa412cdbf52",
   "metadata": {},
   "outputs": [
    {
     "data": {
      "text/plain": [
       "400"
      ]
     },
     "execution_count": 8,
     "metadata": {},
     "output_type": "execute_result"
    }
   ],
   "source": [
    "data.iloc[-1]"
   ]
  },
  {
   "cell_type": "markdown",
   "id": "29bb8d42-ecfb-4ace-be1a-fa431a5df234",
   "metadata": {},
   "source": [
    "## 5. How would you access elements from index 'y' to 'z' (inclusive) using .loc[]?"
   ]
  },
  {
   "cell_type": "code",
   "execution_count": 10,
   "id": "b6639614-e836-411d-aa04-1b15903e8058",
   "metadata": {},
   "outputs": [
    {
     "data": {
      "text/plain": [
       "y    200\n",
       "z    300\n",
       "dtype: int64"
      ]
     },
     "execution_count": 10,
     "metadata": {},
     "output_type": "execute_result"
    }
   ],
   "source": [
    "data.loc['y':'z']"
   ]
  },
  {
   "cell_type": "markdown",
   "id": "a9a1a1da-a9c2-4897-bdef-f3a3b7640571",
   "metadata": {},
   "source": [
    "## 6. What is the difference between using .iloc[2] and .loc[2] when accessing a Series that has integer-based indices?"
   ]
  },
  {
   "cell_type": "code",
   "execution_count": 24,
   "id": "faded5cc-6da6-4170-a72e-3836b66451c6",
   "metadata": {},
   "outputs": [
    {
     "data": {
      "text/plain": [
       "300"
      ]
     },
     "execution_count": 24,
     "metadata": {},
     "output_type": "execute_result"
    }
   ],
   "source": [
    "data.iloc[2]"
   ]
  },
  {
   "cell_type": "code",
   "execution_count": 26,
   "id": "a4aee2c2-9ced-42fe-9711-04a78020223f",
   "metadata": {},
   "outputs": [],
   "source": [
    "# data.loc[2]  --> raises an error, Try to find an index labeled 2, which doesn’t exist"
   ]
  },
  {
   "cell_type": "code",
   "execution_count": 27,
   "id": "381e8ef1-08c2-4443-b91d-d30016aabd0f",
   "metadata": {},
   "outputs": [
    {
     "name": "stdout",
     "output_type": "stream",
     "text": [
      "Try to find an index labeled 2, which doesn’t exist\n"
     ]
    }
   ],
   "source": [
    "try:\n",
    "    data.loc[2]\n",
    "except:\n",
    "    print(\"Try to find an index labeled 2, which doesn’t exist\")"
   ]
  },
  {
   "cell_type": "code",
   "execution_count": 28,
   "id": "7db941bf-53ff-44be-815c-ddbf8b23dca9",
   "metadata": {},
   "outputs": [],
   "source": [
    "# .iloc[]  is for position based\n",
    "# .loc[] is for label based"
   ]
  },
  {
   "cell_type": "markdown",
   "id": "0e5692ea-f6ea-4080-bb4e-4552e2314c7d",
   "metadata": {},
   "source": [
    "## 7. Using dot notation, how would you access the element with index 'x'?"
   ]
  },
  {
   "cell_type": "code",
   "execution_count": 29,
   "id": "88387778-d15f-4bd9-98ae-775bbb09c105",
   "metadata": {},
   "outputs": [
    {
     "data": {
      "text/plain": [
       "100"
      ]
     },
     "execution_count": 29,
     "metadata": {},
     "output_type": "execute_result"
    }
   ],
   "source": [
    "data.x"
   ]
  }
 ],
 "metadata": {
  "kernelspec": {
   "display_name": "Python 3 (ipykernel)",
   "language": "python",
   "name": "python3"
  },
  "language_info": {
   "codemirror_mode": {
    "name": "ipython",
    "version": 3
   },
   "file_extension": ".py",
   "mimetype": "text/x-python",
   "name": "python",
   "nbconvert_exporter": "python",
   "pygments_lexer": "ipython3",
   "version": "3.11.4"
  }
 },
 "nbformat": 4,
 "nbformat_minor": 5
}
