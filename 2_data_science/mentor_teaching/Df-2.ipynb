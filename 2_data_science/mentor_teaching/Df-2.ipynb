{
 "cells": [
  {
   "cell_type": "code",
   "execution_count": 1,
   "id": "50684179-e146-4e64-bd04-e27a4fb790da",
   "metadata": {},
   "outputs": [],
   "source": [
    "import pandas as pd "
   ]
  },
  {
   "cell_type": "code",
   "execution_count": 2,
   "id": "2816ff35-cab9-414a-912a-eaa956a9ace6",
   "metadata": {},
   "outputs": [
    {
     "data": {
      "text/plain": [
       "0    12\n",
       "1    13\n",
       "2    17\n",
       "3    19\n",
       "dtype: int64"
      ]
     },
     "execution_count": 2,
     "metadata": {},
     "output_type": "execute_result"
    }
   ],
   "source": [
    "ser= pd.Series([12,13,17,19])\n",
    "ser"
   ]
  },
  {
   "cell_type": "code",
   "execution_count": 3,
   "id": "dfc3dde7-ced4-4917-940d-bd208804942b",
   "metadata": {},
   "outputs": [
    {
     "data": {
      "text/plain": [
       "17"
      ]
     },
     "execution_count": 3,
     "metadata": {},
     "output_type": "execute_result"
    }
   ],
   "source": [
    "ser[2]"
   ]
  },
  {
   "cell_type": "code",
   "execution_count": 4,
   "id": "848b4df7-261b-4ce6-9de3-f0f7016c52af",
   "metadata": {},
   "outputs": [
    {
     "data": {
      "text/plain": [
       "0    12\n",
       "1    13\n",
       "2    17\n",
       "dtype: int64"
      ]
     },
     "execution_count": 4,
     "metadata": {},
     "output_type": "execute_result"
    }
   ],
   "source": [
    "ser[0:3]"
   ]
  },
  {
   "cell_type": "code",
   "execution_count": 5,
   "id": "c2c80228-a589-4af6-bffa-b97f490f7a4f",
   "metadata": {},
   "outputs": [
    {
     "data": {
      "text/plain": [
       "0    12\n",
       "3    19\n",
       "dtype: int64"
      ]
     },
     "execution_count": 5,
     "metadata": {},
     "output_type": "execute_result"
    }
   ],
   "source": [
    "ser[[0,3]]"
   ]
  },
  {
   "cell_type": "code",
   "execution_count": 6,
   "id": "81692366-f18b-4dd0-bddb-b9655d768bda",
   "metadata": {},
   "outputs": [
    {
     "data": {
      "text/plain": [
       "3    19\n",
       "2    17\n",
       "dtype: int64"
      ]
     },
     "execution_count": 6,
     "metadata": {},
     "output_type": "execute_result"
    }
   ],
   "source": [
    "ser.loc[[3,2]]"
   ]
  },
  {
   "cell_type": "code",
   "execution_count": 7,
   "id": "e85c23e0-6604-4c26-9097-16763da16d89",
   "metadata": {},
   "outputs": [],
   "source": [
    "df= pd.DataFrame({'name':['Pankaj','Gurpreet','Manmeet','Raaju','billa'],'class':['btech','BCA','Mtech','MCA','BA']})"
   ]
  },
  {
   "cell_type": "code",
   "execution_count": 8,
   "id": "5e179fb5-c11e-4914-8aa7-34d96dd1fdd2",
   "metadata": {},
   "outputs": [
    {
     "data": {
      "text/html": [
       "<div>\n",
       "<style scoped>\n",
       "    .dataframe tbody tr th:only-of-type {\n",
       "        vertical-align: middle;\n",
       "    }\n",
       "\n",
       "    .dataframe tbody tr th {\n",
       "        vertical-align: top;\n",
       "    }\n",
       "\n",
       "    .dataframe thead th {\n",
       "        text-align: right;\n",
       "    }\n",
       "</style>\n",
       "<table border=\"1\" class=\"dataframe\">\n",
       "  <thead>\n",
       "    <tr style=\"text-align: right;\">\n",
       "      <th></th>\n",
       "      <th>name</th>\n",
       "      <th>class</th>\n",
       "    </tr>\n",
       "  </thead>\n",
       "  <tbody>\n",
       "    <tr>\n",
       "      <th>0</th>\n",
       "      <td>Pankaj</td>\n",
       "      <td>btech</td>\n",
       "    </tr>\n",
       "    <tr>\n",
       "      <th>1</th>\n",
       "      <td>Gurpreet</td>\n",
       "      <td>BCA</td>\n",
       "    </tr>\n",
       "    <tr>\n",
       "      <th>2</th>\n",
       "      <td>Manmeet</td>\n",
       "      <td>Mtech</td>\n",
       "    </tr>\n",
       "    <tr>\n",
       "      <th>3</th>\n",
       "      <td>Raaju</td>\n",
       "      <td>MCA</td>\n",
       "    </tr>\n",
       "    <tr>\n",
       "      <th>4</th>\n",
       "      <td>billa</td>\n",
       "      <td>BA</td>\n",
       "    </tr>\n",
       "  </tbody>\n",
       "</table>\n",
       "</div>"
      ],
      "text/plain": [
       "       name  class\n",
       "0    Pankaj  btech\n",
       "1  Gurpreet    BCA\n",
       "2   Manmeet  Mtech\n",
       "3     Raaju    MCA\n",
       "4     billa     BA"
      ]
     },
     "execution_count": 8,
     "metadata": {},
     "output_type": "execute_result"
    }
   ],
   "source": [
    "df"
   ]
  },
  {
   "cell_type": "code",
   "execution_count": 9,
   "id": "4e41f878-687f-4690-bd53-f671670610aa",
   "metadata": {},
   "outputs": [],
   "source": [
    "df.loc[:,'total_marks']=100"
   ]
  },
  {
   "cell_type": "code",
   "execution_count": 10,
   "id": "3202fc6d-272f-418b-8eee-039e30e89a56",
   "metadata": {},
   "outputs": [
    {
     "data": {
      "text/html": [
       "<div>\n",
       "<style scoped>\n",
       "    .dataframe tbody tr th:only-of-type {\n",
       "        vertical-align: middle;\n",
       "    }\n",
       "\n",
       "    .dataframe tbody tr th {\n",
       "        vertical-align: top;\n",
       "    }\n",
       "\n",
       "    .dataframe thead th {\n",
       "        text-align: right;\n",
       "    }\n",
       "</style>\n",
       "<table border=\"1\" class=\"dataframe\">\n",
       "  <thead>\n",
       "    <tr style=\"text-align: right;\">\n",
       "      <th></th>\n",
       "      <th>name</th>\n",
       "      <th>class</th>\n",
       "      <th>total_marks</th>\n",
       "    </tr>\n",
       "  </thead>\n",
       "  <tbody>\n",
       "    <tr>\n",
       "      <th>0</th>\n",
       "      <td>Pankaj</td>\n",
       "      <td>btech</td>\n",
       "      <td>100</td>\n",
       "    </tr>\n",
       "    <tr>\n",
       "      <th>1</th>\n",
       "      <td>Gurpreet</td>\n",
       "      <td>BCA</td>\n",
       "      <td>100</td>\n",
       "    </tr>\n",
       "    <tr>\n",
       "      <th>2</th>\n",
       "      <td>Manmeet</td>\n",
       "      <td>Mtech</td>\n",
       "      <td>100</td>\n",
       "    </tr>\n",
       "    <tr>\n",
       "      <th>3</th>\n",
       "      <td>Raaju</td>\n",
       "      <td>MCA</td>\n",
       "      <td>100</td>\n",
       "    </tr>\n",
       "    <tr>\n",
       "      <th>4</th>\n",
       "      <td>billa</td>\n",
       "      <td>BA</td>\n",
       "      <td>100</td>\n",
       "    </tr>\n",
       "  </tbody>\n",
       "</table>\n",
       "</div>"
      ],
      "text/plain": [
       "       name  class  total_marks\n",
       "0    Pankaj  btech          100\n",
       "1  Gurpreet    BCA          100\n",
       "2   Manmeet  Mtech          100\n",
       "3     Raaju    MCA          100\n",
       "4     billa     BA          100"
      ]
     },
     "execution_count": 10,
     "metadata": {},
     "output_type": "execute_result"
    }
   ],
   "source": [
    "df"
   ]
  },
  {
   "cell_type": "code",
   "execution_count": 12,
   "id": "60f3d441-7bd3-468e-86f7-78a37a17d44d",
   "metadata": {},
   "outputs": [],
   "source": [
    "df.loc[:,'marks']=[34,56,43,23,67]"
   ]
  },
  {
   "cell_type": "code",
   "execution_count": 13,
   "id": "76b1d403-473b-4ff9-8b16-2e683633a409",
   "metadata": {},
   "outputs": [
    {
     "data": {
      "text/html": [
       "<div>\n",
       "<style scoped>\n",
       "    .dataframe tbody tr th:only-of-type {\n",
       "        vertical-align: middle;\n",
       "    }\n",
       "\n",
       "    .dataframe tbody tr th {\n",
       "        vertical-align: top;\n",
       "    }\n",
       "\n",
       "    .dataframe thead th {\n",
       "        text-align: right;\n",
       "    }\n",
       "</style>\n",
       "<table border=\"1\" class=\"dataframe\">\n",
       "  <thead>\n",
       "    <tr style=\"text-align: right;\">\n",
       "      <th></th>\n",
       "      <th>name</th>\n",
       "      <th>class</th>\n",
       "      <th>total_marks</th>\n",
       "      <th>marks</th>\n",
       "    </tr>\n",
       "  </thead>\n",
       "  <tbody>\n",
       "    <tr>\n",
       "      <th>0</th>\n",
       "      <td>Pankaj</td>\n",
       "      <td>btech</td>\n",
       "      <td>100</td>\n",
       "      <td>34</td>\n",
       "    </tr>\n",
       "    <tr>\n",
       "      <th>1</th>\n",
       "      <td>Gurpreet</td>\n",
       "      <td>BCA</td>\n",
       "      <td>100</td>\n",
       "      <td>56</td>\n",
       "    </tr>\n",
       "    <tr>\n",
       "      <th>2</th>\n",
       "      <td>Manmeet</td>\n",
       "      <td>Mtech</td>\n",
       "      <td>100</td>\n",
       "      <td>43</td>\n",
       "    </tr>\n",
       "    <tr>\n",
       "      <th>3</th>\n",
       "      <td>Raaju</td>\n",
       "      <td>MCA</td>\n",
       "      <td>100</td>\n",
       "      <td>23</td>\n",
       "    </tr>\n",
       "    <tr>\n",
       "      <th>4</th>\n",
       "      <td>billa</td>\n",
       "      <td>BA</td>\n",
       "      <td>100</td>\n",
       "      <td>67</td>\n",
       "    </tr>\n",
       "  </tbody>\n",
       "</table>\n",
       "</div>"
      ],
      "text/plain": [
       "       name  class  total_marks  marks\n",
       "0    Pankaj  btech          100     34\n",
       "1  Gurpreet    BCA          100     56\n",
       "2   Manmeet  Mtech          100     43\n",
       "3     Raaju    MCA          100     23\n",
       "4     billa     BA          100     67"
      ]
     },
     "execution_count": 13,
     "metadata": {},
     "output_type": "execute_result"
    }
   ],
   "source": [
    "df"
   ]
  },
  {
   "cell_type": "code",
   "execution_count": 14,
   "id": "775b042e-e46e-4f70-ade4-affdd37340cd",
   "metadata": {},
   "outputs": [],
   "source": [
    "df.loc[:,'percentage']= (df.loc[:,'marks']/df.loc[:,'total_marks'])*100"
   ]
  },
  {
   "cell_type": "code",
   "execution_count": 15,
   "id": "a6fbb1f9-c285-4b58-a56f-74e9e41df0b3",
   "metadata": {},
   "outputs": [
    {
     "data": {
      "text/html": [
       "<div>\n",
       "<style scoped>\n",
       "    .dataframe tbody tr th:only-of-type {\n",
       "        vertical-align: middle;\n",
       "    }\n",
       "\n",
       "    .dataframe tbody tr th {\n",
       "        vertical-align: top;\n",
       "    }\n",
       "\n",
       "    .dataframe thead th {\n",
       "        text-align: right;\n",
       "    }\n",
       "</style>\n",
       "<table border=\"1\" class=\"dataframe\">\n",
       "  <thead>\n",
       "    <tr style=\"text-align: right;\">\n",
       "      <th></th>\n",
       "      <th>name</th>\n",
       "      <th>class</th>\n",
       "      <th>total_marks</th>\n",
       "      <th>marks</th>\n",
       "      <th>percentage</th>\n",
       "    </tr>\n",
       "  </thead>\n",
       "  <tbody>\n",
       "    <tr>\n",
       "      <th>0</th>\n",
       "      <td>Pankaj</td>\n",
       "      <td>btech</td>\n",
       "      <td>100</td>\n",
       "      <td>34</td>\n",
       "      <td>34.0</td>\n",
       "    </tr>\n",
       "    <tr>\n",
       "      <th>1</th>\n",
       "      <td>Gurpreet</td>\n",
       "      <td>BCA</td>\n",
       "      <td>100</td>\n",
       "      <td>56</td>\n",
       "      <td>56.0</td>\n",
       "    </tr>\n",
       "    <tr>\n",
       "      <th>2</th>\n",
       "      <td>Manmeet</td>\n",
       "      <td>Mtech</td>\n",
       "      <td>100</td>\n",
       "      <td>43</td>\n",
       "      <td>43.0</td>\n",
       "    </tr>\n",
       "    <tr>\n",
       "      <th>3</th>\n",
       "      <td>Raaju</td>\n",
       "      <td>MCA</td>\n",
       "      <td>100</td>\n",
       "      <td>23</td>\n",
       "      <td>23.0</td>\n",
       "    </tr>\n",
       "    <tr>\n",
       "      <th>4</th>\n",
       "      <td>billa</td>\n",
       "      <td>BA</td>\n",
       "      <td>100</td>\n",
       "      <td>67</td>\n",
       "      <td>67.0</td>\n",
       "    </tr>\n",
       "  </tbody>\n",
       "</table>\n",
       "</div>"
      ],
      "text/plain": [
       "       name  class  total_marks  marks  percentage\n",
       "0    Pankaj  btech          100     34        34.0\n",
       "1  Gurpreet    BCA          100     56        56.0\n",
       "2   Manmeet  Mtech          100     43        43.0\n",
       "3     Raaju    MCA          100     23        23.0\n",
       "4     billa     BA          100     67        67.0"
      ]
     },
     "execution_count": 15,
     "metadata": {},
     "output_type": "execute_result"
    }
   ],
   "source": [
    "df"
   ]
  },
  {
   "cell_type": "code",
   "execution_count": 16,
   "id": "69d08013-65ac-441e-99e5-996d6566dbd7",
   "metadata": {},
   "outputs": [],
   "source": [
    "#rename columns "
   ]
  },
  {
   "cell_type": "code",
   "execution_count": 20,
   "id": "b06f5751-a11d-47e1-a959-647f87a44d0e",
   "metadata": {},
   "outputs": [],
   "source": [
    "df.rename(columns={'marks':'numbers'}, inplace=True)  # 'old_name':'new_name'"
   ]
  },
  {
   "cell_type": "code",
   "execution_count": 21,
   "id": "be088e0f-81cb-4870-aa73-97d522a93f82",
   "metadata": {},
   "outputs": [
    {
     "data": {
      "text/html": [
       "<div>\n",
       "<style scoped>\n",
       "    .dataframe tbody tr th:only-of-type {\n",
       "        vertical-align: middle;\n",
       "    }\n",
       "\n",
       "    .dataframe tbody tr th {\n",
       "        vertical-align: top;\n",
       "    }\n",
       "\n",
       "    .dataframe thead th {\n",
       "        text-align: right;\n",
       "    }\n",
       "</style>\n",
       "<table border=\"1\" class=\"dataframe\">\n",
       "  <thead>\n",
       "    <tr style=\"text-align: right;\">\n",
       "      <th></th>\n",
       "      <th>name</th>\n",
       "      <th>class</th>\n",
       "      <th>total_marks</th>\n",
       "      <th>numbers</th>\n",
       "      <th>percentage</th>\n",
       "    </tr>\n",
       "  </thead>\n",
       "  <tbody>\n",
       "    <tr>\n",
       "      <th>0</th>\n",
       "      <td>Pankaj</td>\n",
       "      <td>btech</td>\n",
       "      <td>100</td>\n",
       "      <td>34</td>\n",
       "      <td>34.0</td>\n",
       "    </tr>\n",
       "    <tr>\n",
       "      <th>1</th>\n",
       "      <td>Gurpreet</td>\n",
       "      <td>BCA</td>\n",
       "      <td>100</td>\n",
       "      <td>56</td>\n",
       "      <td>56.0</td>\n",
       "    </tr>\n",
       "    <tr>\n",
       "      <th>2</th>\n",
       "      <td>Manmeet</td>\n",
       "      <td>Mtech</td>\n",
       "      <td>100</td>\n",
       "      <td>43</td>\n",
       "      <td>43.0</td>\n",
       "    </tr>\n",
       "    <tr>\n",
       "      <th>3</th>\n",
       "      <td>Raaju</td>\n",
       "      <td>MCA</td>\n",
       "      <td>100</td>\n",
       "      <td>23</td>\n",
       "      <td>23.0</td>\n",
       "    </tr>\n",
       "    <tr>\n",
       "      <th>4</th>\n",
       "      <td>billa</td>\n",
       "      <td>BA</td>\n",
       "      <td>100</td>\n",
       "      <td>67</td>\n",
       "      <td>67.0</td>\n",
       "    </tr>\n",
       "  </tbody>\n",
       "</table>\n",
       "</div>"
      ],
      "text/plain": [
       "       name  class  total_marks  numbers  percentage\n",
       "0    Pankaj  btech          100       34        34.0\n",
       "1  Gurpreet    BCA          100       56        56.0\n",
       "2   Manmeet  Mtech          100       43        43.0\n",
       "3     Raaju    MCA          100       23        23.0\n",
       "4     billa     BA          100       67        67.0"
      ]
     },
     "execution_count": 21,
     "metadata": {},
     "output_type": "execute_result"
    }
   ],
   "source": [
    "df"
   ]
  },
  {
   "cell_type": "code",
   "execution_count": 22,
   "id": "0405678e-4608-49be-819b-bea365723fa5",
   "metadata": {},
   "outputs": [],
   "source": [
    "#insert columns"
   ]
  },
  {
   "cell_type": "code",
   "execution_count": 23,
   "id": "b68c8e69-4401-43aa-890b-f976d9e8e44b",
   "metadata": {},
   "outputs": [],
   "source": [
    "df.insert(2,'address',value='Hoshiarpur') "
   ]
  },
  {
   "cell_type": "code",
   "execution_count": 24,
   "id": "d0264932-8258-44ee-9f3a-b6305bb2b537",
   "metadata": {},
   "outputs": [
    {
     "data": {
      "text/html": [
       "<div>\n",
       "<style scoped>\n",
       "    .dataframe tbody tr th:only-of-type {\n",
       "        vertical-align: middle;\n",
       "    }\n",
       "\n",
       "    .dataframe tbody tr th {\n",
       "        vertical-align: top;\n",
       "    }\n",
       "\n",
       "    .dataframe thead th {\n",
       "        text-align: right;\n",
       "    }\n",
       "</style>\n",
       "<table border=\"1\" class=\"dataframe\">\n",
       "  <thead>\n",
       "    <tr style=\"text-align: right;\">\n",
       "      <th></th>\n",
       "      <th>name</th>\n",
       "      <th>class</th>\n",
       "      <th>address</th>\n",
       "      <th>total_marks</th>\n",
       "      <th>numbers</th>\n",
       "      <th>percentage</th>\n",
       "    </tr>\n",
       "  </thead>\n",
       "  <tbody>\n",
       "    <tr>\n",
       "      <th>0</th>\n",
       "      <td>Pankaj</td>\n",
       "      <td>btech</td>\n",
       "      <td>Hoshiarpur</td>\n",
       "      <td>100</td>\n",
       "      <td>34</td>\n",
       "      <td>34.0</td>\n",
       "    </tr>\n",
       "    <tr>\n",
       "      <th>1</th>\n",
       "      <td>Gurpreet</td>\n",
       "      <td>BCA</td>\n",
       "      <td>Hoshiarpur</td>\n",
       "      <td>100</td>\n",
       "      <td>56</td>\n",
       "      <td>56.0</td>\n",
       "    </tr>\n",
       "    <tr>\n",
       "      <th>2</th>\n",
       "      <td>Manmeet</td>\n",
       "      <td>Mtech</td>\n",
       "      <td>Hoshiarpur</td>\n",
       "      <td>100</td>\n",
       "      <td>43</td>\n",
       "      <td>43.0</td>\n",
       "    </tr>\n",
       "    <tr>\n",
       "      <th>3</th>\n",
       "      <td>Raaju</td>\n",
       "      <td>MCA</td>\n",
       "      <td>Hoshiarpur</td>\n",
       "      <td>100</td>\n",
       "      <td>23</td>\n",
       "      <td>23.0</td>\n",
       "    </tr>\n",
       "    <tr>\n",
       "      <th>4</th>\n",
       "      <td>billa</td>\n",
       "      <td>BA</td>\n",
       "      <td>Hoshiarpur</td>\n",
       "      <td>100</td>\n",
       "      <td>67</td>\n",
       "      <td>67.0</td>\n",
       "    </tr>\n",
       "  </tbody>\n",
       "</table>\n",
       "</div>"
      ],
      "text/plain": [
       "       name  class     address  total_marks  numbers  percentage\n",
       "0    Pankaj  btech  Hoshiarpur          100       34        34.0\n",
       "1  Gurpreet    BCA  Hoshiarpur          100       56        56.0\n",
       "2   Manmeet  Mtech  Hoshiarpur          100       43        43.0\n",
       "3     Raaju    MCA  Hoshiarpur          100       23        23.0\n",
       "4     billa     BA  Hoshiarpur          100       67        67.0"
      ]
     },
     "execution_count": 24,
     "metadata": {},
     "output_type": "execute_result"
    }
   ],
   "source": [
    "df"
   ]
  },
  {
   "cell_type": "code",
   "execution_count": 26,
   "id": "885bdd70-7192-4d72-b85b-65ec1b883dc3",
   "metadata": {},
   "outputs": [],
   "source": [
    "df.insert(2,'address',value='Hoshiarpur', allow_duplicates=True) "
   ]
  },
  {
   "cell_type": "code",
   "execution_count": 27,
   "id": "27d42f09-3fd1-427d-98c9-411c622e1dc7",
   "metadata": {},
   "outputs": [
    {
     "data": {
      "text/html": [
       "<div>\n",
       "<style scoped>\n",
       "    .dataframe tbody tr th:only-of-type {\n",
       "        vertical-align: middle;\n",
       "    }\n",
       "\n",
       "    .dataframe tbody tr th {\n",
       "        vertical-align: top;\n",
       "    }\n",
       "\n",
       "    .dataframe thead th {\n",
       "        text-align: right;\n",
       "    }\n",
       "</style>\n",
       "<table border=\"1\" class=\"dataframe\">\n",
       "  <thead>\n",
       "    <tr style=\"text-align: right;\">\n",
       "      <th></th>\n",
       "      <th>name</th>\n",
       "      <th>class</th>\n",
       "      <th>address</th>\n",
       "      <th>address</th>\n",
       "      <th>total_marks</th>\n",
       "      <th>numbers</th>\n",
       "      <th>percentage</th>\n",
       "    </tr>\n",
       "  </thead>\n",
       "  <tbody>\n",
       "    <tr>\n",
       "      <th>0</th>\n",
       "      <td>Pankaj</td>\n",
       "      <td>btech</td>\n",
       "      <td>Hoshiarpur</td>\n",
       "      <td>Hoshiarpur</td>\n",
       "      <td>100</td>\n",
       "      <td>34</td>\n",
       "      <td>34.0</td>\n",
       "    </tr>\n",
       "    <tr>\n",
       "      <th>1</th>\n",
       "      <td>Gurpreet</td>\n",
       "      <td>BCA</td>\n",
       "      <td>Hoshiarpur</td>\n",
       "      <td>Hoshiarpur</td>\n",
       "      <td>100</td>\n",
       "      <td>56</td>\n",
       "      <td>56.0</td>\n",
       "    </tr>\n",
       "    <tr>\n",
       "      <th>2</th>\n",
       "      <td>Manmeet</td>\n",
       "      <td>Mtech</td>\n",
       "      <td>Hoshiarpur</td>\n",
       "      <td>Hoshiarpur</td>\n",
       "      <td>100</td>\n",
       "      <td>43</td>\n",
       "      <td>43.0</td>\n",
       "    </tr>\n",
       "    <tr>\n",
       "      <th>3</th>\n",
       "      <td>Raaju</td>\n",
       "      <td>MCA</td>\n",
       "      <td>Hoshiarpur</td>\n",
       "      <td>Hoshiarpur</td>\n",
       "      <td>100</td>\n",
       "      <td>23</td>\n",
       "      <td>23.0</td>\n",
       "    </tr>\n",
       "    <tr>\n",
       "      <th>4</th>\n",
       "      <td>billa</td>\n",
       "      <td>BA</td>\n",
       "      <td>Hoshiarpur</td>\n",
       "      <td>Hoshiarpur</td>\n",
       "      <td>100</td>\n",
       "      <td>67</td>\n",
       "      <td>67.0</td>\n",
       "    </tr>\n",
       "  </tbody>\n",
       "</table>\n",
       "</div>"
      ],
      "text/plain": [
       "       name  class     address     address  total_marks  numbers  percentage\n",
       "0    Pankaj  btech  Hoshiarpur  Hoshiarpur          100       34        34.0\n",
       "1  Gurpreet    BCA  Hoshiarpur  Hoshiarpur          100       56        56.0\n",
       "2   Manmeet  Mtech  Hoshiarpur  Hoshiarpur          100       43        43.0\n",
       "3     Raaju    MCA  Hoshiarpur  Hoshiarpur          100       23        23.0\n",
       "4     billa     BA  Hoshiarpur  Hoshiarpur          100       67        67.0"
      ]
     },
     "execution_count": 27,
     "metadata": {},
     "output_type": "execute_result"
    }
   ],
   "source": [
    "df"
   ]
  },
  {
   "cell_type": "code",
   "execution_count": 29,
   "id": "d68ce28a-accd-4c3a-a4b5-58db968109c8",
   "metadata": {},
   "outputs": [],
   "source": [
    "df.drop('address', axis=1, inplace=True)"
   ]
  },
  {
   "cell_type": "code",
   "execution_count": 30,
   "id": "aa09d561-9454-4322-a03d-91c9cce67e4a",
   "metadata": {},
   "outputs": [
    {
     "data": {
      "text/html": [
       "<div>\n",
       "<style scoped>\n",
       "    .dataframe tbody tr th:only-of-type {\n",
       "        vertical-align: middle;\n",
       "    }\n",
       "\n",
       "    .dataframe tbody tr th {\n",
       "        vertical-align: top;\n",
       "    }\n",
       "\n",
       "    .dataframe thead th {\n",
       "        text-align: right;\n",
       "    }\n",
       "</style>\n",
       "<table border=\"1\" class=\"dataframe\">\n",
       "  <thead>\n",
       "    <tr style=\"text-align: right;\">\n",
       "      <th></th>\n",
       "      <th>name</th>\n",
       "      <th>class</th>\n",
       "      <th>total_marks</th>\n",
       "      <th>numbers</th>\n",
       "      <th>percentage</th>\n",
       "    </tr>\n",
       "  </thead>\n",
       "  <tbody>\n",
       "    <tr>\n",
       "      <th>0</th>\n",
       "      <td>Pankaj</td>\n",
       "      <td>btech</td>\n",
       "      <td>100</td>\n",
       "      <td>34</td>\n",
       "      <td>34.0</td>\n",
       "    </tr>\n",
       "    <tr>\n",
       "      <th>1</th>\n",
       "      <td>Gurpreet</td>\n",
       "      <td>BCA</td>\n",
       "      <td>100</td>\n",
       "      <td>56</td>\n",
       "      <td>56.0</td>\n",
       "    </tr>\n",
       "    <tr>\n",
       "      <th>2</th>\n",
       "      <td>Manmeet</td>\n",
       "      <td>Mtech</td>\n",
       "      <td>100</td>\n",
       "      <td>43</td>\n",
       "      <td>43.0</td>\n",
       "    </tr>\n",
       "    <tr>\n",
       "      <th>3</th>\n",
       "      <td>Raaju</td>\n",
       "      <td>MCA</td>\n",
       "      <td>100</td>\n",
       "      <td>23</td>\n",
       "      <td>23.0</td>\n",
       "    </tr>\n",
       "    <tr>\n",
       "      <th>4</th>\n",
       "      <td>billa</td>\n",
       "      <td>BA</td>\n",
       "      <td>100</td>\n",
       "      <td>67</td>\n",
       "      <td>67.0</td>\n",
       "    </tr>\n",
       "  </tbody>\n",
       "</table>\n",
       "</div>"
      ],
      "text/plain": [
       "       name  class  total_marks  numbers  percentage\n",
       "0    Pankaj  btech          100       34        34.0\n",
       "1  Gurpreet    BCA          100       56        56.0\n",
       "2   Manmeet  Mtech          100       43        43.0\n",
       "3     Raaju    MCA          100       23        23.0\n",
       "4     billa     BA          100       67        67.0"
      ]
     },
     "execution_count": 30,
     "metadata": {},
     "output_type": "execute_result"
    }
   ],
   "source": [
    "df"
   ]
  },
  {
   "cell_type": "code",
   "execution_count": 33,
   "id": "c7b71c87-3c66-45cd-86ee-ac8cd32324da",
   "metadata": {},
   "outputs": [
    {
     "name": "stdout",
     "output_type": "stream",
     "text": [
      "name\n",
      "class\n",
      "total_marks\n",
      "numbers\n",
      "percentage\n"
     ]
    }
   ],
   "source": [
    "for i in df:\n",
    "    print(i)"
   ]
  },
  {
   "cell_type": "code",
   "execution_count": 34,
   "id": "1ec889db-6dbf-4fc0-b0a1-ceac0fae0bb5",
   "metadata": {},
   "outputs": [
    {
     "name": "stdout",
     "output_type": "stream",
     "text": [
      "(0, name           Pankaj\n",
      "class           btech\n",
      "total_marks       100\n",
      "numbers            34\n",
      "percentage       34.0\n",
      "Name: 0, dtype: object)\n",
      "(1, name           Gurpreet\n",
      "class               BCA\n",
      "total_marks         100\n",
      "numbers              56\n",
      "percentage         56.0\n",
      "Name: 1, dtype: object)\n",
      "(2, name           Manmeet\n",
      "class            Mtech\n",
      "total_marks        100\n",
      "numbers             43\n",
      "percentage        43.0\n",
      "Name: 2, dtype: object)\n",
      "(3, name           Raaju\n",
      "class            MCA\n",
      "total_marks      100\n",
      "numbers           23\n",
      "percentage      23.0\n",
      "Name: 3, dtype: object)\n",
      "(4, name           billa\n",
      "class             BA\n",
      "total_marks      100\n",
      "numbers           67\n",
      "percentage      67.0\n",
      "Name: 4, dtype: object)\n"
     ]
    }
   ],
   "source": [
    "for i in df.iterrows():\n",
    "    print(i)"
   ]
  },
  {
   "cell_type": "code",
   "execution_count": 35,
   "id": "2192b7f2-3fcb-4136-8003-3d4544c13c01",
   "metadata": {},
   "outputs": [],
   "source": [
    "# conditions"
   ]
  },
  {
   "cell_type": "code",
   "execution_count": 36,
   "id": "cb2bfb2e-f5e2-46bd-b5cf-2b55fe04f48b",
   "metadata": {},
   "outputs": [
    {
     "data": {
      "text/plain": [
       "0    False\n",
       "1     True\n",
       "2    False\n",
       "3    False\n",
       "4     True\n",
       "Name: numbers, dtype: bool"
      ]
     },
     "execution_count": 36,
     "metadata": {},
     "output_type": "execute_result"
    }
   ],
   "source": [
    "df.loc[:,'numbers']>50"
   ]
  },
  {
   "cell_type": "code",
   "execution_count": 37,
   "id": "08cb3cf2-22a2-4e2a-9297-a9f9e4466ba4",
   "metadata": {},
   "outputs": [
    {
     "data": {
      "text/html": [
       "<div>\n",
       "<style scoped>\n",
       "    .dataframe tbody tr th:only-of-type {\n",
       "        vertical-align: middle;\n",
       "    }\n",
       "\n",
       "    .dataframe tbody tr th {\n",
       "        vertical-align: top;\n",
       "    }\n",
       "\n",
       "    .dataframe thead th {\n",
       "        text-align: right;\n",
       "    }\n",
       "</style>\n",
       "<table border=\"1\" class=\"dataframe\">\n",
       "  <thead>\n",
       "    <tr style=\"text-align: right;\">\n",
       "      <th></th>\n",
       "      <th>name</th>\n",
       "      <th>class</th>\n",
       "      <th>total_marks</th>\n",
       "      <th>numbers</th>\n",
       "      <th>percentage</th>\n",
       "    </tr>\n",
       "  </thead>\n",
       "  <tbody>\n",
       "    <tr>\n",
       "      <th>1</th>\n",
       "      <td>Gurpreet</td>\n",
       "      <td>BCA</td>\n",
       "      <td>100</td>\n",
       "      <td>56</td>\n",
       "      <td>56.0</td>\n",
       "    </tr>\n",
       "    <tr>\n",
       "      <th>4</th>\n",
       "      <td>billa</td>\n",
       "      <td>BA</td>\n",
       "      <td>100</td>\n",
       "      <td>67</td>\n",
       "      <td>67.0</td>\n",
       "    </tr>\n",
       "  </tbody>\n",
       "</table>\n",
       "</div>"
      ],
      "text/plain": [
       "       name class  total_marks  numbers  percentage\n",
       "1  Gurpreet   BCA          100       56        56.0\n",
       "4     billa    BA          100       67        67.0"
      ]
     },
     "execution_count": 37,
     "metadata": {},
     "output_type": "execute_result"
    }
   ],
   "source": [
    "df[df.loc[:,'numbers']>50]"
   ]
  },
  {
   "cell_type": "code",
   "execution_count": 38,
   "id": "3fc2b096-fe48-4285-8e16-d0b680d30ea5",
   "metadata": {},
   "outputs": [
    {
     "data": {
      "text/html": [
       "<div>\n",
       "<style scoped>\n",
       "    .dataframe tbody tr th:only-of-type {\n",
       "        vertical-align: middle;\n",
       "    }\n",
       "\n",
       "    .dataframe tbody tr th {\n",
       "        vertical-align: top;\n",
       "    }\n",
       "\n",
       "    .dataframe thead th {\n",
       "        text-align: right;\n",
       "    }\n",
       "</style>\n",
       "<table border=\"1\" class=\"dataframe\">\n",
       "  <thead>\n",
       "    <tr style=\"text-align: right;\">\n",
       "      <th></th>\n",
       "      <th>name</th>\n",
       "      <th>class</th>\n",
       "      <th>total_marks</th>\n",
       "      <th>numbers</th>\n",
       "      <th>percentage</th>\n",
       "    </tr>\n",
       "  </thead>\n",
       "  <tbody>\n",
       "    <tr>\n",
       "      <th>0</th>\n",
       "      <td>Pankaj</td>\n",
       "      <td>btech</td>\n",
       "      <td>100</td>\n",
       "      <td>34</td>\n",
       "      <td>34.0</td>\n",
       "    </tr>\n",
       "    <tr>\n",
       "      <th>1</th>\n",
       "      <td>Gurpreet</td>\n",
       "      <td>BCA</td>\n",
       "      <td>100</td>\n",
       "      <td>56</td>\n",
       "      <td>56.0</td>\n",
       "    </tr>\n",
       "    <tr>\n",
       "      <th>2</th>\n",
       "      <td>Manmeet</td>\n",
       "      <td>Mtech</td>\n",
       "      <td>100</td>\n",
       "      <td>43</td>\n",
       "      <td>43.0</td>\n",
       "    </tr>\n",
       "    <tr>\n",
       "      <th>3</th>\n",
       "      <td>Raaju</td>\n",
       "      <td>MCA</td>\n",
       "      <td>100</td>\n",
       "      <td>23</td>\n",
       "      <td>23.0</td>\n",
       "    </tr>\n",
       "    <tr>\n",
       "      <th>4</th>\n",
       "      <td>billa</td>\n",
       "      <td>BA</td>\n",
       "      <td>100</td>\n",
       "      <td>67</td>\n",
       "      <td>67.0</td>\n",
       "    </tr>\n",
       "  </tbody>\n",
       "</table>\n",
       "</div>"
      ],
      "text/plain": [
       "       name  class  total_marks  numbers  percentage\n",
       "0    Pankaj  btech          100       34        34.0\n",
       "1  Gurpreet    BCA          100       56        56.0\n",
       "2   Manmeet  Mtech          100       43        43.0\n",
       "3     Raaju    MCA          100       23        23.0\n",
       "4     billa     BA          100       67        67.0"
      ]
     },
     "execution_count": 38,
     "metadata": {},
     "output_type": "execute_result"
    }
   ],
   "source": [
    "df"
   ]
  },
  {
   "cell_type": "code",
   "execution_count": 41,
   "id": "a49f0b53-b400-4d03-9d2a-83af491502cb",
   "metadata": {},
   "outputs": [
    {
     "data": {
      "text/plain": [
       "class\n",
       "btech    1\n",
       "BCA      1\n",
       "Mtech    1\n",
       "MCA      1\n",
       "BA       1\n",
       "Name: count, dtype: int64"
      ]
     },
     "execution_count": 41,
     "metadata": {},
     "output_type": "execute_result"
    }
   ],
   "source": [
    "df['class'].value_counts()"
   ]
  },
  {
   "cell_type": "code",
   "execution_count": 43,
   "id": "780bc71c-9ff1-495f-b7ee-ffc4c8ace3d2",
   "metadata": {},
   "outputs": [
    {
     "data": {
      "text/html": [
       "<div>\n",
       "<style scoped>\n",
       "    .dataframe tbody tr th:only-of-type {\n",
       "        vertical-align: middle;\n",
       "    }\n",
       "\n",
       "    .dataframe tbody tr th {\n",
       "        vertical-align: top;\n",
       "    }\n",
       "\n",
       "    .dataframe thead th {\n",
       "        text-align: right;\n",
       "    }\n",
       "</style>\n",
       "<table border=\"1\" class=\"dataframe\">\n",
       "  <thead>\n",
       "    <tr style=\"text-align: right;\">\n",
       "      <th></th>\n",
       "      <th>total_marks</th>\n",
       "      <th>numbers</th>\n",
       "      <th>percentage</th>\n",
       "    </tr>\n",
       "  </thead>\n",
       "  <tbody>\n",
       "    <tr>\n",
       "      <th>count</th>\n",
       "      <td>5.0</td>\n",
       "      <td>5.00000</td>\n",
       "      <td>5.00000</td>\n",
       "    </tr>\n",
       "    <tr>\n",
       "      <th>mean</th>\n",
       "      <td>100.0</td>\n",
       "      <td>44.60000</td>\n",
       "      <td>44.60000</td>\n",
       "    </tr>\n",
       "    <tr>\n",
       "      <th>std</th>\n",
       "      <td>0.0</td>\n",
       "      <td>17.41551</td>\n",
       "      <td>17.41551</td>\n",
       "    </tr>\n",
       "    <tr>\n",
       "      <th>min</th>\n",
       "      <td>100.0</td>\n",
       "      <td>23.00000</td>\n",
       "      <td>23.00000</td>\n",
       "    </tr>\n",
       "    <tr>\n",
       "      <th>25%</th>\n",
       "      <td>100.0</td>\n",
       "      <td>34.00000</td>\n",
       "      <td>34.00000</td>\n",
       "    </tr>\n",
       "    <tr>\n",
       "      <th>50%</th>\n",
       "      <td>100.0</td>\n",
       "      <td>43.00000</td>\n",
       "      <td>43.00000</td>\n",
       "    </tr>\n",
       "    <tr>\n",
       "      <th>75%</th>\n",
       "      <td>100.0</td>\n",
       "      <td>56.00000</td>\n",
       "      <td>56.00000</td>\n",
       "    </tr>\n",
       "    <tr>\n",
       "      <th>max</th>\n",
       "      <td>100.0</td>\n",
       "      <td>67.00000</td>\n",
       "      <td>67.00000</td>\n",
       "    </tr>\n",
       "  </tbody>\n",
       "</table>\n",
       "</div>"
      ],
      "text/plain": [
       "       total_marks   numbers  percentage\n",
       "count          5.0   5.00000     5.00000\n",
       "mean         100.0  44.60000    44.60000\n",
       "std            0.0  17.41551    17.41551\n",
       "min          100.0  23.00000    23.00000\n",
       "25%          100.0  34.00000    34.00000\n",
       "50%          100.0  43.00000    43.00000\n",
       "75%          100.0  56.00000    56.00000\n",
       "max          100.0  67.00000    67.00000"
      ]
     },
     "execution_count": 43,
     "metadata": {},
     "output_type": "execute_result"
    }
   ],
   "source": [
    "df.describe()"
   ]
  },
  {
   "cell_type": "code",
   "execution_count": 52,
   "id": "11e0bd1e-3af8-49d5-b005-516a0cb18a1c",
   "metadata": {},
   "outputs": [],
   "source": [
    "df1= pd.DataFrame([15,17,20,25,30,37])\n"
   ]
  },
  {
   "cell_type": "code",
   "execution_count": 53,
   "id": "9551f132-6a4b-4c23-bb03-b8822672270a",
   "metadata": {},
   "outputs": [
    {
     "data": {
      "text/html": [
       "<div>\n",
       "<style scoped>\n",
       "    .dataframe tbody tr th:only-of-type {\n",
       "        vertical-align: middle;\n",
       "    }\n",
       "\n",
       "    .dataframe tbody tr th {\n",
       "        vertical-align: top;\n",
       "    }\n",
       "\n",
       "    .dataframe thead th {\n",
       "        text-align: right;\n",
       "    }\n",
       "</style>\n",
       "<table border=\"1\" class=\"dataframe\">\n",
       "  <thead>\n",
       "    <tr style=\"text-align: right;\">\n",
       "      <th></th>\n",
       "      <th>0</th>\n",
       "    </tr>\n",
       "  </thead>\n",
       "  <tbody>\n",
       "    <tr>\n",
       "      <th>count</th>\n",
       "      <td>6.000000</td>\n",
       "    </tr>\n",
       "    <tr>\n",
       "      <th>mean</th>\n",
       "      <td>24.000000</td>\n",
       "    </tr>\n",
       "    <tr>\n",
       "      <th>std</th>\n",
       "      <td>8.390471</td>\n",
       "    </tr>\n",
       "    <tr>\n",
       "      <th>min</th>\n",
       "      <td>15.000000</td>\n",
       "    </tr>\n",
       "    <tr>\n",
       "      <th>25%</th>\n",
       "      <td>17.750000</td>\n",
       "    </tr>\n",
       "    <tr>\n",
       "      <th>50%</th>\n",
       "      <td>22.500000</td>\n",
       "    </tr>\n",
       "    <tr>\n",
       "      <th>75%</th>\n",
       "      <td>28.750000</td>\n",
       "    </tr>\n",
       "    <tr>\n",
       "      <th>max</th>\n",
       "      <td>37.000000</td>\n",
       "    </tr>\n",
       "  </tbody>\n",
       "</table>\n",
       "</div>"
      ],
      "text/plain": [
       "               0\n",
       "count   6.000000\n",
       "mean   24.000000\n",
       "std     8.390471\n",
       "min    15.000000\n",
       "25%    17.750000\n",
       "50%    22.500000\n",
       "75%    28.750000\n",
       "max    37.000000"
      ]
     },
     "execution_count": 53,
     "metadata": {},
     "output_type": "execute_result"
    }
   ],
   "source": [
    "df1.describe()"
   ]
  },
  {
   "cell_type": "code",
   "execution_count": null,
   "id": "8983a0a0-086b-49c1-97ec-de75ba00c5d8",
   "metadata": {},
   "outputs": [],
   "source": []
  }
 ],
 "metadata": {
  "kernelspec": {
   "display_name": "Python 3 (ipykernel)",
   "language": "python",
   "name": "python3"
  },
  "language_info": {
   "codemirror_mode": {
    "name": "ipython",
    "version": 3
   },
   "file_extension": ".py",
   "mimetype": "text/x-python",
   "name": "python",
   "nbconvert_exporter": "python",
   "pygments_lexer": "ipython3",
   "version": "3.12.4"
  }
 },
 "nbformat": 4,
 "nbformat_minor": 5
}
