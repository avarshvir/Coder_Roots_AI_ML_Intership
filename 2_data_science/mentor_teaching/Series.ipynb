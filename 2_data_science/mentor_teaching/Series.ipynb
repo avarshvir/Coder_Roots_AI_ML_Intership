{
 "cells": [
  {
   "cell_type": "code",
   "execution_count": 1,
   "id": "6aa5dcbe-e709-4def-8676-fa5b6814f3ee",
   "metadata": {},
   "outputs": [],
   "source": [
    "# series "
   ]
  },
  {
   "cell_type": "code",
   "execution_count": 3,
   "id": "731b7bcf-8ef8-46f0-9052-dc00c6bdb488",
   "metadata": {},
   "outputs": [],
   "source": [
    "import pandas as pd"
   ]
  },
  {
   "cell_type": "code",
   "execution_count": 4,
   "id": "a83537c3-3af5-463c-b35c-d7ba36d58c4b",
   "metadata": {},
   "outputs": [],
   "source": [
    "ser= pd.Series([12,14,15,'hello',True,5.66])"
   ]
  },
  {
   "cell_type": "code",
   "execution_count": 5,
   "id": "d5907c58-f534-4056-836f-47024b84d387",
   "metadata": {},
   "outputs": [
    {
     "data": {
      "text/plain": [
       "0       12\n",
       "1       14\n",
       "2       15\n",
       "3    hello\n",
       "4     True\n",
       "5     5.66\n",
       "dtype: object"
      ]
     },
     "execution_count": 5,
     "metadata": {},
     "output_type": "execute_result"
    }
   ],
   "source": [
    "ser"
   ]
  },
  {
   "cell_type": "code",
   "execution_count": 6,
   "id": "4bbe3755-9a1d-4f3b-b378-8bb36462a6bf",
   "metadata": {},
   "outputs": [
    {
     "data": {
      "text/plain": [
       "a    13\n",
       "b    45\n",
       "d    67\n",
       "e    78\n",
       "f    99\n",
       "dtype: int64"
      ]
     },
     "execution_count": 6,
     "metadata": {},
     "output_type": "execute_result"
    }
   ],
   "source": [
    "s= pd.Series(data=[13,45,67,78,99],index=['a','b','d','e','f'])\n",
    "s"
   ]
  },
  {
   "cell_type": "code",
   "execution_count": 11,
   "id": "e4985a6d-b6e7-45ac-b9b3-876d234cb879",
   "metadata": {},
   "outputs": [],
   "source": [
    "#Access elements "
   ]
  },
  {
   "cell_type": "code",
   "execution_count": 7,
   "id": "d026efa7-04c4-4396-bde9-6dc5d4ae7df0",
   "metadata": {},
   "outputs": [
    {
     "data": {
      "text/plain": [
       "15"
      ]
     },
     "execution_count": 7,
     "metadata": {},
     "output_type": "execute_result"
    }
   ],
   "source": [
    "# [], . \n",
    "\n",
    "ser[2]"
   ]
  },
  {
   "cell_type": "code",
   "execution_count": 13,
   "id": "1439cf93-3806-437c-a84f-3bfdaa9e6aa5",
   "metadata": {},
   "outputs": [
    {
     "data": {
      "text/plain": [
       "5.66"
      ]
     },
     "execution_count": 13,
     "metadata": {},
     "output_type": "execute_result"
    }
   ],
   "source": [
    "ser[5]"
   ]
  },
  {
   "cell_type": "code",
   "execution_count": 15,
   "id": "c1b35ddb-6869-4e2f-bf5b-f6ad85ebf49a",
   "metadata": {},
   "outputs": [],
   "source": [
    "# ser[7] key error "
   ]
  },
  {
   "cell_type": "code",
   "execution_count": 16,
   "id": "2cc662c9-8df6-4b48-a1b2-27b462400bc1",
   "metadata": {},
   "outputs": [
    {
     "data": {
      "text/plain": [
       "13"
      ]
     },
     "execution_count": 16,
     "metadata": {},
     "output_type": "execute_result"
    }
   ],
   "source": [
    "s['a']"
   ]
  },
  {
   "cell_type": "code",
   "execution_count": 17,
   "id": "cf5a72c0-9708-4b2e-b0a5-2ea855e0e9a8",
   "metadata": {},
   "outputs": [
    {
     "data": {
      "text/plain": [
       "78"
      ]
     },
     "execution_count": 17,
     "metadata": {},
     "output_type": "execute_result"
    }
   ],
   "source": [
    "s['e']"
   ]
  },
  {
   "cell_type": "code",
   "execution_count": 8,
   "id": "2d7e8700-3e36-439f-abf6-fb452ae82aaa",
   "metadata": {},
   "outputs": [
    {
     "name": "stderr",
     "output_type": "stream",
     "text": [
      "C:\\Users\\dell\\AppData\\Local\\Temp\\ipykernel_7040\\243613605.py:1: FutureWarning: Series.__getitem__ treating keys as positions is deprecated. In a future version, integer keys will always be treated as labels (consistent with DataFrame behavior). To access a value by position, use `ser.iloc[pos]`\n",
      "  s[0]\n"
     ]
    },
    {
     "data": {
      "text/plain": [
       "13"
      ]
     },
     "execution_count": 8,
     "metadata": {},
     "output_type": "execute_result"
    }
   ],
   "source": [
    "s[0]"
   ]
  },
  {
   "cell_type": "code",
   "execution_count": 9,
   "id": "5f99dda8-39ab-4fd8-ada7-9e1877cb6f92",
   "metadata": {},
   "outputs": [
    {
     "data": {
      "text/plain": [
       "13"
      ]
     },
     "execution_count": 9,
     "metadata": {},
     "output_type": "execute_result"
    }
   ],
   "source": [
    "s.a"
   ]
  },
  {
   "cell_type": "code",
   "execution_count": 20,
   "id": "bce1df1f-0df8-4d20-935f-6a011fcbdaee",
   "metadata": {},
   "outputs": [
    {
     "data": {
      "text/plain": [
       "45"
      ]
     },
     "execution_count": 20,
     "metadata": {},
     "output_type": "execute_result"
    }
   ],
   "source": [
    "s.b"
   ]
  },
  {
   "cell_type": "code",
   "execution_count": 22,
   "id": "7e431e40-49ad-4178-82ac-e0e6efaec12f",
   "metadata": {},
   "outputs": [
    {
     "ename": "SyntaxError",
     "evalue": "invalid syntax (3888071105.py, line 1)",
     "output_type": "error",
     "traceback": [
      "\u001b[1;36m  Cell \u001b[1;32mIn[22], line 1\u001b[1;36m\u001b[0m\n\u001b[1;33m    s.1\u001b[0m\n\u001b[1;37m     ^\u001b[0m\n\u001b[1;31mSyntaxError\u001b[0m\u001b[1;31m:\u001b[0m invalid syntax\n"
     ]
    }
   ],
   "source": [
    "s.1 # number don't use with dot "
   ]
  },
  {
   "cell_type": "code",
   "execution_count": 25,
   "id": "a2fb8734-a295-4675-bbad-a4b5148b7ad1",
   "metadata": {},
   "outputs": [
    {
     "data": {
      "text/plain": [
       "0       12\n",
       "1       14\n",
       "2       15\n",
       "3    hello\n",
       "4     True\n",
       "5     5.66\n",
       "dtype: object"
      ]
     },
     "execution_count": 25,
     "metadata": {},
     "output_type": "execute_result"
    }
   ],
   "source": [
    "# loc, iloc, at, iat \n",
    "ser"
   ]
  },
  {
   "cell_type": "code",
   "execution_count": 24,
   "id": "f90558b8-1255-49a3-9b67-82c3557d5cd6",
   "metadata": {},
   "outputs": [
    {
     "data": {
      "text/plain": [
       "14"
      ]
     },
     "execution_count": 24,
     "metadata": {},
     "output_type": "execute_result"
    }
   ],
   "source": [
    "ser.loc[1]"
   ]
  },
  {
   "cell_type": "code",
   "execution_count": 27,
   "id": "90be1835-2cca-4b31-a295-8c739af4b275",
   "metadata": {},
   "outputs": [
    {
     "data": {
      "text/plain": [
       "13"
      ]
     },
     "execution_count": 27,
     "metadata": {},
     "output_type": "execute_result"
    }
   ],
   "source": [
    "s.loc['a']"
   ]
  },
  {
   "cell_type": "code",
   "execution_count": 29,
   "id": "86b7557e-fa8a-4e11-ac28-571a6ddedb83",
   "metadata": {},
   "outputs": [
    {
     "data": {
      "text/plain": [
       "a    13\n",
       "b    45\n",
       "d    67\n",
       "dtype: int64"
      ]
     },
     "execution_count": 29,
     "metadata": {},
     "output_type": "execute_result"
    }
   ],
   "source": [
    "s[:'d']"
   ]
  },
  {
   "cell_type": "code",
   "execution_count": 30,
   "id": "2475578a-9a70-4413-88e1-b06e5e05870e",
   "metadata": {},
   "outputs": [
    {
     "data": {
      "text/plain": [
       "1       14\n",
       "2       15\n",
       "3    hello\n",
       "4     True\n",
       "dtype: object"
      ]
     },
     "execution_count": 30,
     "metadata": {},
     "output_type": "execute_result"
    }
   ],
   "source": [
    "ser.loc[1:4]"
   ]
  },
  {
   "cell_type": "code",
   "execution_count": 33,
   "id": "702166af-0752-47ee-9e2d-61260c012f1b",
   "metadata": {},
   "outputs": [
    {
     "data": {
      "text/plain": [
       "1       14\n",
       "2       15\n",
       "3    hello\n",
       "dtype: object"
      ]
     },
     "execution_count": 33,
     "metadata": {},
     "output_type": "execute_result"
    }
   ],
   "source": [
    "ser.iloc[1:4]"
   ]
  },
  {
   "cell_type": "code",
   "execution_count": 35,
   "id": "2b7bb094-87ea-4224-9ef9-9b6b8c504d24",
   "metadata": {},
   "outputs": [
    {
     "data": {
      "text/plain": [
       "0     0\n",
       "1     2\n",
       "2     4\n",
       "3     6\n",
       "4     8\n",
       "5    10\n",
       "6    12\n",
       "7    14\n",
       "8    16\n",
       "9    18\n",
       "dtype: int64"
      ]
     },
     "execution_count": 35,
     "metadata": {},
     "output_type": "execute_result"
    }
   ],
   "source": [
    "ser1= pd.Series([i for i in range(20) if i%2==0])\n",
    "ser1"
   ]
  },
  {
   "cell_type": "code",
   "execution_count": 39,
   "id": "40a3b284-5e99-4e4a-b638-f7f070b3246d",
   "metadata": {},
   "outputs": [
    {
     "data": {
      "text/plain": [
       "4"
      ]
     },
     "execution_count": 39,
     "metadata": {},
     "output_type": "execute_result"
    }
   ],
   "source": [
    "ser1.at[2]"
   ]
  },
  {
   "cell_type": "code",
   "execution_count": 40,
   "id": "76327561-e7da-4b1f-a19e-e2c5cfcd6175",
   "metadata": {},
   "outputs": [
    {
     "ename": "KeyError",
     "evalue": "slice(None, 2, None)",
     "output_type": "error",
     "traceback": [
      "\u001b[1;31m---------------------------------------------------------------------------\u001b[0m",
      "\u001b[1;31mKeyError\u001b[0m                                  Traceback (most recent call last)",
      "Cell \u001b[1;32mIn[40], line 1\u001b[0m\n\u001b[1;32m----> 1\u001b[0m \u001b[43mser1\u001b[49m\u001b[38;5;241;43m.\u001b[39;49m\u001b[43mat\u001b[49m\u001b[43m[\u001b[49m\u001b[43m:\u001b[49m\u001b[38;5;241;43m2\u001b[39;49m\u001b[43m]\u001b[49m\n",
      "File \u001b[1;32m~\\AppData\\Local\\Programs\\Python\\Python312\\Lib\\site-packages\\pandas\\core\\indexing.py:2575\u001b[0m, in \u001b[0;36m_AtIndexer.__getitem__\u001b[1;34m(self, key)\u001b[0m\n\u001b[0;32m   2572\u001b[0m         \u001b[38;5;28;01mraise\u001b[39;00m \u001b[38;5;167;01mValueError\u001b[39;00m(\u001b[38;5;124m\"\u001b[39m\u001b[38;5;124mInvalid call for scalar access (getting)!\u001b[39m\u001b[38;5;124m\"\u001b[39m)\n\u001b[0;32m   2573\u001b[0m     \u001b[38;5;28;01mreturn\u001b[39;00m \u001b[38;5;28mself\u001b[39m\u001b[38;5;241m.\u001b[39mobj\u001b[38;5;241m.\u001b[39mloc[key]\n\u001b[1;32m-> 2575\u001b[0m \u001b[38;5;28;01mreturn\u001b[39;00m \u001b[38;5;28;43msuper\u001b[39;49m\u001b[43m(\u001b[49m\u001b[43m)\u001b[49m\u001b[38;5;241;43m.\u001b[39;49m\u001b[38;5;21;43m__getitem__\u001b[39;49m\u001b[43m(\u001b[49m\u001b[43mkey\u001b[49m\u001b[43m)\u001b[49m\n",
      "File \u001b[1;32m~\\AppData\\Local\\Programs\\Python\\Python312\\Lib\\site-packages\\pandas\\core\\indexing.py:2527\u001b[0m, in \u001b[0;36m_ScalarAccessIndexer.__getitem__\u001b[1;34m(self, key)\u001b[0m\n\u001b[0;32m   2524\u001b[0m         \u001b[38;5;28;01mraise\u001b[39;00m \u001b[38;5;167;01mValueError\u001b[39;00m(\u001b[38;5;124m\"\u001b[39m\u001b[38;5;124mInvalid call for scalar access (getting)!\u001b[39m\u001b[38;5;124m\"\u001b[39m)\n\u001b[0;32m   2526\u001b[0m key \u001b[38;5;241m=\u001b[39m \u001b[38;5;28mself\u001b[39m\u001b[38;5;241m.\u001b[39m_convert_key(key)\n\u001b[1;32m-> 2527\u001b[0m \u001b[38;5;28;01mreturn\u001b[39;00m \u001b[38;5;28;43mself\u001b[39;49m\u001b[38;5;241;43m.\u001b[39;49m\u001b[43mobj\u001b[49m\u001b[38;5;241;43m.\u001b[39;49m\u001b[43m_get_value\u001b[49m\u001b[43m(\u001b[49m\u001b[38;5;241;43m*\u001b[39;49m\u001b[43mkey\u001b[49m\u001b[43m,\u001b[49m\u001b[43m \u001b[49m\u001b[43mtakeable\u001b[49m\u001b[38;5;241;43m=\u001b[39;49m\u001b[38;5;28;43mself\u001b[39;49m\u001b[38;5;241;43m.\u001b[39;49m\u001b[43m_takeable\u001b[49m\u001b[43m)\u001b[49m\n",
      "File \u001b[1;32m~\\AppData\\Local\\Programs\\Python\\Python312\\Lib\\site-packages\\pandas\\core\\series.py:1237\u001b[0m, in \u001b[0;36mSeries._get_value\u001b[1;34m(self, label, takeable)\u001b[0m\n\u001b[0;32m   1234\u001b[0m     \u001b[38;5;28;01mreturn\u001b[39;00m \u001b[38;5;28mself\u001b[39m\u001b[38;5;241m.\u001b[39m_values[label]\n\u001b[0;32m   1236\u001b[0m \u001b[38;5;66;03m# Similar to Index.get_value, but we do not fall back to positional\u001b[39;00m\n\u001b[1;32m-> 1237\u001b[0m loc \u001b[38;5;241m=\u001b[39m \u001b[38;5;28;43mself\u001b[39;49m\u001b[38;5;241;43m.\u001b[39;49m\u001b[43mindex\u001b[49m\u001b[38;5;241;43m.\u001b[39;49m\u001b[43mget_loc\u001b[49m\u001b[43m(\u001b[49m\u001b[43mlabel\u001b[49m\u001b[43m)\u001b[49m\n\u001b[0;32m   1239\u001b[0m \u001b[38;5;28;01mif\u001b[39;00m is_integer(loc):\n\u001b[0;32m   1240\u001b[0m     \u001b[38;5;28;01mreturn\u001b[39;00m \u001b[38;5;28mself\u001b[39m\u001b[38;5;241m.\u001b[39m_values[loc]\n",
      "File \u001b[1;32m~\\AppData\\Local\\Programs\\Python\\Python312\\Lib\\site-packages\\pandas\\core\\indexes\\range.py:417\u001b[0m, in \u001b[0;36mRangeIndex.get_loc\u001b[1;34m(self, key)\u001b[0m\n\u001b[0;32m    415\u001b[0m         \u001b[38;5;28;01mraise\u001b[39;00m \u001b[38;5;167;01mKeyError\u001b[39;00m(key) \u001b[38;5;28;01mfrom\u001b[39;00m \u001b[38;5;21;01merr\u001b[39;00m\n\u001b[0;32m    416\u001b[0m \u001b[38;5;28;01mif\u001b[39;00m \u001b[38;5;28misinstance\u001b[39m(key, Hashable):\n\u001b[1;32m--> 417\u001b[0m     \u001b[38;5;28;01mraise\u001b[39;00m \u001b[38;5;167;01mKeyError\u001b[39;00m(key)\n\u001b[0;32m    418\u001b[0m \u001b[38;5;28mself\u001b[39m\u001b[38;5;241m.\u001b[39m_check_indexing_error(key)\n\u001b[0;32m    419\u001b[0m \u001b[38;5;28;01mraise\u001b[39;00m \u001b[38;5;167;01mKeyError\u001b[39;00m(key)\n",
      "\u001b[1;31mKeyError\u001b[0m: slice(None, 2, None)"
     ]
    }
   ],
   "source": [
    "# ser1.at[:2]"
   ]
  },
  {
   "cell_type": "code",
   "execution_count": 41,
   "id": "bcb44d02-d322-4ba9-8250-89b1e0fd46aa",
   "metadata": {},
   "outputs": [
    {
     "data": {
      "text/plain": [
       "14"
      ]
     },
     "execution_count": 41,
     "metadata": {},
     "output_type": "execute_result"
    }
   ],
   "source": [
    "ser.iat[1]"
   ]
  },
  {
   "cell_type": "code",
   "execution_count": 42,
   "id": "036806ec-3c11-43b5-a597-379a7c37e226",
   "metadata": {},
   "outputs": [],
   "source": [
    "# Dictionary "
   ]
  },
  {
   "cell_type": "code",
   "execution_count": 43,
   "id": "2845b7cd-dc05-4685-b2aa-d5586b12fbda",
   "metadata": {},
   "outputs": [],
   "source": [
    "s2= pd.Series({'name':'Gurminder','class':'Btech','Address':'Mohali'})"
   ]
  },
  {
   "cell_type": "code",
   "execution_count": 44,
   "id": "637e0885-4397-43d8-8613-99954a96d78d",
   "metadata": {},
   "outputs": [
    {
     "data": {
      "text/plain": [
       "name       Gurminder\n",
       "class          Btech\n",
       "Address       Mohali\n",
       "dtype: object"
      ]
     },
     "execution_count": 44,
     "metadata": {},
     "output_type": "execute_result"
    }
   ],
   "source": [
    "s2"
   ]
  },
  {
   "cell_type": "code",
   "execution_count": 51,
   "id": "0449922b-2a6c-41cc-87bf-43cee5b157b4",
   "metadata": {},
   "outputs": [],
   "source": [
    "s3= pd.Series({'name':'Gurminder','class':'Btech','Address':'Mohali'},index=['name','class','new'])"
   ]
  },
  {
   "cell_type": "code",
   "execution_count": 52,
   "id": "52700f6a-e5ff-422d-8d3b-5c2bf58a2663",
   "metadata": {},
   "outputs": [
    {
     "data": {
      "text/plain": [
       "name     Gurminder\n",
       "class        Btech\n",
       "new            NaN\n",
       "dtype: object"
      ]
     },
     "execution_count": 52,
     "metadata": {},
     "output_type": "execute_result"
    }
   ],
   "source": [
    "s3"
   ]
  },
  {
   "cell_type": "code",
   "execution_count": 53,
   "id": "2f78e7a8-231f-48cf-9716-5d9a535058b9",
   "metadata": {},
   "outputs": [
    {
     "data": {
      "text/plain": [
       "'Gurminder'"
      ]
     },
     "execution_count": 53,
     "metadata": {},
     "output_type": "execute_result"
    }
   ],
   "source": [
    "s2.loc['name']"
   ]
  },
  {
   "cell_type": "code",
   "execution_count": 54,
   "id": "019d333f-2d03-4ee6-9fab-cf044a478517",
   "metadata": {},
   "outputs": [
    {
     "data": {
      "text/plain": [
       "'Gurminder'"
      ]
     },
     "execution_count": 54,
     "metadata": {},
     "output_type": "execute_result"
    }
   ],
   "source": [
    "s2.iloc[0]"
   ]
  },
  {
   "cell_type": "code",
   "execution_count": 10,
   "id": "1fe44b3c-e35d-4177-8771-e356c4460b3c",
   "metadata": {},
   "outputs": [
    {
     "name": "stdout",
     "output_type": "stream",
     "text": [
      "    A   B\n",
      "0  10  40\n",
      "1  20  50\n",
      "2  30  60\n",
      "20\n",
      "0    40\n",
      "1    50\n",
      "2    60\n",
      "Name: B, dtype: int64\n"
     ]
    }
   ],
   "source": [
    "import pandas as pd\n",
    "\n",
    "df = pd.DataFrame({'A': [10, 20, 30], 'B': [40, 50, 60]})\n",
    "print(df)\n",
    "# Output:\n",
    "#     A   B\n",
    "# 0  10  40\n",
    "# 1  20  50\n",
    "# 2  30  60\n",
    "\n",
    "print(df.iloc[1, 0])  # Access row index 1, column index 0 → Output: 20\n",
    "print(df.iloc[:, 1])  # Select all rows from column index 1"
   ]
  },
  {
   "cell_type": "code",
   "execution_count": null,
   "id": "6a6f9353-56e8-402b-b41f-7d1173a5f3fa",
   "metadata": {},
   "outputs": [],
   "source": []
  }
 ],
 "metadata": {
  "kernelspec": {
   "display_name": "Python 3 (ipykernel)",
   "language": "python",
   "name": "python3"
  },
  "language_info": {
   "codemirror_mode": {
    "name": "ipython",
    "version": 3
   },
   "file_extension": ".py",
   "mimetype": "text/x-python",
   "name": "python",
   "nbconvert_exporter": "python",
   "pygments_lexer": "ipython3",
   "version": "3.11.4"
  }
 },
 "nbformat": 4,
 "nbformat_minor": 5
}
