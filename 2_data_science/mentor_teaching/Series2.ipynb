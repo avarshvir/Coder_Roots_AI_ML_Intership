{
 "cells": [
  {
   "cell_type": "code",
   "execution_count": 1,
   "id": "9b2b1eec-faa9-4879-9f14-4267ec12a1a5",
   "metadata": {},
   "outputs": [],
   "source": [
    "import pandas as pd"
   ]
  },
  {
   "cell_type": "code",
   "execution_count": 10,
   "id": "c66b322d-db53-41b2-a512-e04065b61a0f",
   "metadata": {},
   "outputs": [
    {
     "data": {
      "text/plain": [
       "0    12\n",
       "1    34\n",
       "2    56\n",
       "3    78\n",
       "4    87\n",
       "5    45\n",
       "6    44\n",
       "7    32\n",
       "8    56\n",
       "dtype: int64"
      ]
     },
     "execution_count": 10,
     "metadata": {},
     "output_type": "execute_result"
    }
   ],
   "source": [
    "s=pd.Series([12,34,56,78,87,45,44,32,56])\n",
    "s"
   ]
  },
  {
   "cell_type": "code",
   "execution_count": 11,
   "id": "e977f368-33c5-47c4-a8df-cd2542981b51",
   "metadata": {},
   "outputs": [
    {
     "data": {
      "text/plain": [
       "0    12\n",
       "1    34\n",
       "2    56\n",
       "3    78\n",
       "4    87\n",
       "dtype: int64"
      ]
     },
     "execution_count": 11,
     "metadata": {},
     "output_type": "execute_result"
    }
   ],
   "source": [
    "s.head()  # by default first five values "
   ]
  },
  {
   "cell_type": "code",
   "execution_count": 12,
   "id": "8aa3fa0f-1d76-49b1-bca6-51b5d0c184f4",
   "metadata": {},
   "outputs": [
    {
     "data": {
      "text/plain": [
       "0    12\n",
       "1    34\n",
       "dtype: int64"
      ]
     },
     "execution_count": 12,
     "metadata": {},
     "output_type": "execute_result"
    }
   ],
   "source": [
    "s.head(2)"
   ]
  },
  {
   "cell_type": "code",
   "execution_count": 13,
   "id": "90f7585e-27a5-4dd4-b710-91081b86dcb8",
   "metadata": {},
   "outputs": [
    {
     "data": {
      "text/plain": [
       "0    12\n",
       "1    34\n",
       "2    56\n",
       "3    78\n",
       "4    87\n",
       "5    45\n",
       "6    44\n",
       "7    32\n",
       "dtype: int64"
      ]
     },
     "execution_count": 13,
     "metadata": {},
     "output_type": "execute_result"
    }
   ],
   "source": [
    "s.head(8)"
   ]
  },
  {
   "cell_type": "code",
   "execution_count": 14,
   "id": "32981007-0814-4358-a7aa-49f98ad16b88",
   "metadata": {},
   "outputs": [
    {
     "data": {
      "text/plain": [
       "4    87\n",
       "5    45\n",
       "6    44\n",
       "7    32\n",
       "8    56\n",
       "dtype: int64"
      ]
     },
     "execution_count": 14,
     "metadata": {},
     "output_type": "execute_result"
    }
   ],
   "source": [
    "s.tail()"
   ]
  },
  {
   "cell_type": "code",
   "execution_count": 15,
   "id": "ac286aad-36ee-4252-89bf-1afcbf76a189",
   "metadata": {},
   "outputs": [
    {
     "data": {
      "text/plain": [
       "6    44\n",
       "7    32\n",
       "8    56\n",
       "dtype: int64"
      ]
     },
     "execution_count": 15,
     "metadata": {},
     "output_type": "execute_result"
    }
   ],
   "source": [
    "s.tail(3)"
   ]
  },
  {
   "cell_type": "code",
   "execution_count": 21,
   "id": "e46919b8-0892-41a0-84d5-f590fe46f96d",
   "metadata": {},
   "outputs": [],
   "source": [
    "s1=pd.Series([12,13,14,15,0], dtype='bool')"
   ]
  },
  {
   "cell_type": "code",
   "execution_count": 22,
   "id": "404d2c8f-1869-4906-b42c-331d7581f1d2",
   "metadata": {},
   "outputs": [
    {
     "data": {
      "text/plain": [
       "0     True\n",
       "1     True\n",
       "2     True\n",
       "3     True\n",
       "4    False\n",
       "dtype: bool"
      ]
     },
     "execution_count": 22,
     "metadata": {},
     "output_type": "execute_result"
    }
   ],
   "source": [
    "s1"
   ]
  },
  {
   "cell_type": "code",
   "execution_count": 23,
   "id": "8926ddea-0de9-4d14-967c-898eaeab4d03",
   "metadata": {},
   "outputs": [
    {
     "data": {
      "text/plain": [
       "0    12\n",
       "1    34\n",
       "2    56\n",
       "3    78\n",
       "4    87\n",
       "5    45\n",
       "6    44\n",
       "7    32\n",
       "8    56\n",
       "dtype: int64"
      ]
     },
     "execution_count": 23,
     "metadata": {},
     "output_type": "execute_result"
    }
   ],
   "source": [
    "s"
   ]
  },
  {
   "cell_type": "code",
   "execution_count": 24,
   "id": "9362b709-0259-456a-941a-69541acc5a0c",
   "metadata": {},
   "outputs": [],
   "source": [
    "s[3]= 100"
   ]
  },
  {
   "cell_type": "code",
   "execution_count": 25,
   "id": "c42d0ea3-7e74-47a4-9465-548225c9c2c7",
   "metadata": {},
   "outputs": [
    {
     "data": {
      "text/plain": [
       "0     12\n",
       "1     34\n",
       "2     56\n",
       "3    100\n",
       "4     87\n",
       "5     45\n",
       "6     44\n",
       "7     32\n",
       "8     56\n",
       "dtype: int64"
      ]
     },
     "execution_count": 25,
     "metadata": {},
     "output_type": "execute_result"
    }
   ],
   "source": [
    "s"
   ]
  },
  {
   "cell_type": "code",
   "execution_count": 26,
   "id": "ee0825c0-bc57-4fb0-9253-3eff4c81643e",
   "metadata": {},
   "outputs": [],
   "source": [
    "s[10]= 123"
   ]
  },
  {
   "cell_type": "code",
   "execution_count": 27,
   "id": "d6482e18-2fab-4260-ae6f-4b81ad026c48",
   "metadata": {},
   "outputs": [
    {
     "data": {
      "text/plain": [
       "0      12\n",
       "1      34\n",
       "2      56\n",
       "3     100\n",
       "4      87\n",
       "5      45\n",
       "6      44\n",
       "7      32\n",
       "8      56\n",
       "10    123\n",
       "dtype: int64"
      ]
     },
     "execution_count": 27,
     "metadata": {},
     "output_type": "execute_result"
    }
   ],
   "source": [
    "s"
   ]
  },
  {
   "cell_type": "code",
   "execution_count": 28,
   "id": "9bc8cbfe-96ac-493f-ab7f-81c534c0d5d4",
   "metadata": {},
   "outputs": [
    {
     "data": {
      "text/plain": [
       "123"
      ]
     },
     "execution_count": 28,
     "metadata": {},
     "output_type": "execute_result"
    }
   ],
   "source": [
    "s.loc[10]"
   ]
  },
  {
   "cell_type": "code",
   "execution_count": 30,
   "id": "9c2413bd-3e87-4b78-849b-974d02055500",
   "metadata": {},
   "outputs": [
    {
     "data": {
      "text/plain": [
       "123"
      ]
     },
     "execution_count": 30,
     "metadata": {},
     "output_type": "execute_result"
    }
   ],
   "source": [
    "s.iloc[9]"
   ]
  },
  {
   "cell_type": "code",
   "execution_count": 31,
   "id": "0a98170d-7d62-4c2b-81e1-b2a00bfaa7e3",
   "metadata": {},
   "outputs": [
    {
     "data": {
      "text/plain": [
       "1     34\n",
       "2     56\n",
       "3    100\n",
       "4     87\n",
       "5     45\n",
       "dtype: int64"
      ]
     },
     "execution_count": 31,
     "metadata": {},
     "output_type": "execute_result"
    }
   ],
   "source": [
    "s.loc[1:5]"
   ]
  },
  {
   "cell_type": "code",
   "execution_count": 33,
   "id": "cb97c68e-1922-485b-80f6-e7fe7af55210",
   "metadata": {},
   "outputs": [
    {
     "data": {
      "text/plain": [
       "2    56\n",
       "5    45\n",
       "dtype: int64"
      ]
     },
     "execution_count": 33,
     "metadata": {},
     "output_type": "execute_result"
    }
   ],
   "source": [
    "s.loc[[2,5]]"
   ]
  },
  {
   "cell_type": "code",
   "execution_count": 36,
   "id": "ee4abf7a-c2bd-4778-be4b-edbe438d4324",
   "metadata": {},
   "outputs": [],
   "source": [
    "s.drop(3,inplace=True)"
   ]
  },
  {
   "cell_type": "code",
   "execution_count": 37,
   "id": "9a64335a-ed22-4ffa-a554-ae6e83aeb4e9",
   "metadata": {},
   "outputs": [
    {
     "data": {
      "text/plain": [
       "0      12\n",
       "1      34\n",
       "2      56\n",
       "4      87\n",
       "5      45\n",
       "6      44\n",
       "7      32\n",
       "8      56\n",
       "10    123\n",
       "dtype: int64"
      ]
     },
     "execution_count": 37,
     "metadata": {},
     "output_type": "execute_result"
    }
   ],
   "source": [
    "s"
   ]
  },
  {
   "cell_type": "code",
   "execution_count": 38,
   "id": "662fc045-495d-4b86-b957-a157bed39c25",
   "metadata": {},
   "outputs": [],
   "source": [
    "#conditions in series "
   ]
  },
  {
   "cell_type": "code",
   "execution_count": 39,
   "id": "0d4150cb-e873-410c-83a6-db6b25728443",
   "metadata": {},
   "outputs": [
    {
     "data": {
      "text/plain": [
       "0     False\n",
       "1      True\n",
       "2      True\n",
       "4     False\n",
       "5      True\n",
       "6      True\n",
       "7     False\n",
       "8      True\n",
       "10    False\n",
       "dtype: bool"
      ]
     },
     "execution_count": 39,
     "metadata": {},
     "output_type": "execute_result"
    }
   ],
   "source": [
    "s.between(34,70)"
   ]
  },
  {
   "cell_type": "code",
   "execution_count": 42,
   "id": "ad8418f9-6cff-4c2c-83d5-ece817f7ec1d",
   "metadata": {},
   "outputs": [
    {
     "data": {
      "text/plain": [
       "1    34\n",
       "2    56\n",
       "5    45\n",
       "6    44\n",
       "8    56\n",
       "dtype: int64"
      ]
     },
     "execution_count": 42,
     "metadata": {},
     "output_type": "execute_result"
    }
   ],
   "source": [
    "s[s.between(34,70)]  # both end points included "
   ]
  },
  {
   "cell_type": "code",
   "execution_count": 49,
   "id": "12593cb4-dcb3-48ef-98a0-235fd41c52c0",
   "metadata": {},
   "outputs": [
    {
     "data": {
      "text/plain": [
       "1    34\n",
       "2    56\n",
       "5    45\n",
       "6    44\n",
       "8    56\n",
       "dtype: int64"
      ]
     },
     "execution_count": 49,
     "metadata": {},
     "output_type": "execute_result"
    }
   ],
   "source": [
    "s[(s>=34) & (s<=70)]"
   ]
  },
  {
   "cell_type": "code",
   "execution_count": 50,
   "id": "fc3fe41a-5210-4d8d-9226-04d5c849a3f8",
   "metadata": {},
   "outputs": [],
   "source": [
    "# isin "
   ]
  },
  {
   "cell_type": "code",
   "execution_count": 52,
   "id": "822065f9-99ba-4eaa-bd23-21ef3f5556b2",
   "metadata": {},
   "outputs": [
    {
     "data": {
      "text/plain": [
       "0     False\n",
       "1      True\n",
       "2     False\n",
       "4     False\n",
       "5     False\n",
       "6     False\n",
       "7     False\n",
       "8     False\n",
       "10    False\n",
       "dtype: bool"
      ]
     },
     "execution_count": 52,
     "metadata": {},
     "output_type": "execute_result"
    }
   ],
   "source": [
    "s.isin([34])"
   ]
  },
  {
   "cell_type": "code",
   "execution_count": 56,
   "id": "fe79ff1a-6143-4fd2-93de-904857d49ad5",
   "metadata": {},
   "outputs": [
    {
     "data": {
      "text/plain": [
       "1    34\n",
       "6    44\n",
       "dtype: int64"
      ]
     },
     "execution_count": 56,
     "metadata": {},
     "output_type": "execute_result"
    }
   ],
   "source": [
    "s[s.isin([34,70,44])]"
   ]
  },
  {
   "cell_type": "code",
   "execution_count": 60,
   "id": "6c44dc9f-302c-482f-a278-04ec617bdc4f",
   "metadata": {},
   "outputs": [
    {
     "data": {
      "text/plain": [
       "6    44\n",
       "dtype: int64"
      ]
     },
     "execution_count": 60,
     "metadata": {},
     "output_type": "execute_result"
    }
   ],
   "source": [
    "s[s.loc[:]==44]"
   ]
  },
  {
   "cell_type": "code",
   "execution_count": 61,
   "id": "fb92b01e-86f3-4dc3-9a87-9372a5426ed1",
   "metadata": {},
   "outputs": [
    {
     "data": {
      "text/plain": [
       "0      12\n",
       "1      34\n",
       "2      56\n",
       "4      87\n",
       "5      45\n",
       "6      44\n",
       "7      32\n",
       "8      56\n",
       "10    123\n",
       "dtype: int64"
      ]
     },
     "execution_count": 61,
     "metadata": {},
     "output_type": "execute_result"
    }
   ],
   "source": [
    "s"
   ]
  },
  {
   "cell_type": "code",
   "execution_count": 62,
   "id": "487c16d9-39d7-437a-95cf-29f4964520d4",
   "metadata": {},
   "outputs": [
    {
     "data": {
      "text/plain": [
       "dtype('int64')"
      ]
     },
     "execution_count": 62,
     "metadata": {},
     "output_type": "execute_result"
    }
   ],
   "source": [
    "s.dtype"
   ]
  },
  {
   "cell_type": "code",
   "execution_count": 65,
   "id": "81172bbc-6271-4f27-b8e4-b3976316e5e1",
   "metadata": {},
   "outputs": [],
   "source": [
    "s= s.astype('float') # as type is used to type conversion "
   ]
  },
  {
   "cell_type": "code",
   "execution_count": 66,
   "id": "aa03bc66-d1dc-46fe-8e9b-4aefe7c86ac1",
   "metadata": {},
   "outputs": [
    {
     "data": {
      "text/plain": [
       "0      12.0\n",
       "1      34.0\n",
       "2      56.0\n",
       "4      87.0\n",
       "5      45.0\n",
       "6      44.0\n",
       "7      32.0\n",
       "8      56.0\n",
       "10    123.0\n",
       "dtype: float64"
      ]
     },
     "execution_count": 66,
     "metadata": {},
     "output_type": "execute_result"
    }
   ],
   "source": [
    "s"
   ]
  },
  {
   "cell_type": "code",
   "execution_count": 67,
   "id": "97e570a7-ef92-4f27-8082-be5ea45022ea",
   "metadata": {},
   "outputs": [],
   "source": [
    "# null values find out "
   ]
  },
  {
   "cell_type": "code",
   "execution_count": 68,
   "id": "679d6fda-8508-43fd-9baf-ce8c0f330d04",
   "metadata": {},
   "outputs": [],
   "source": [
    "import numpy as np "
   ]
  },
  {
   "cell_type": "code",
   "execution_count": 69,
   "id": "ac55d175-f702-435a-9992-431e93e11b2d",
   "metadata": {},
   "outputs": [
    {
     "data": {
      "text/plain": [
       "nan"
      ]
     },
     "execution_count": 69,
     "metadata": {},
     "output_type": "execute_result"
    }
   ],
   "source": [
    "np.nan"
   ]
  },
  {
   "cell_type": "code",
   "execution_count": 85,
   "id": "b33b5e14-3fa5-4aee-89c9-50c35aff8cd5",
   "metadata": {},
   "outputs": [],
   "source": [
    "s2= pd.Series([23,np.nan,45,67,89,98,np.nan,65,np.nan])"
   ]
  },
  {
   "cell_type": "code",
   "execution_count": 86,
   "id": "f65e60dc-140a-4a0b-93f8-e3bfb4bb4a69",
   "metadata": {},
   "outputs": [
    {
     "data": {
      "text/plain": [
       "0    23.0\n",
       "1     NaN\n",
       "2    45.0\n",
       "3    67.0\n",
       "4    89.0\n",
       "5    98.0\n",
       "6     NaN\n",
       "7    65.0\n",
       "8     NaN\n",
       "dtype: float64"
      ]
     },
     "execution_count": 86,
     "metadata": {},
     "output_type": "execute_result"
    }
   ],
   "source": [
    "s2"
   ]
  },
  {
   "cell_type": "code",
   "execution_count": 72,
   "id": "fc5e35ca-d18b-4b49-ad9c-a4c207f6e72b",
   "metadata": {},
   "outputs": [
    {
     "data": {
      "text/plain": [
       "0    False\n",
       "1     True\n",
       "2    False\n",
       "3    False\n",
       "4    False\n",
       "5    False\n",
       "6     True\n",
       "7    False\n",
       "8     True\n",
       "dtype: bool"
      ]
     },
     "execution_count": 72,
     "metadata": {},
     "output_type": "execute_result"
    }
   ],
   "source": [
    "s2.isna()  # to check NaN values"
   ]
  },
  {
   "cell_type": "code",
   "execution_count": 73,
   "id": "e5e7a22e-473f-4a51-b7fa-2f66a84e22e6",
   "metadata": {},
   "outputs": [
    {
     "data": {
      "text/plain": [
       "1   NaN\n",
       "6   NaN\n",
       "8   NaN\n",
       "dtype: float64"
      ]
     },
     "execution_count": 73,
     "metadata": {},
     "output_type": "execute_result"
    }
   ],
   "source": [
    "s2[s2.isna()]"
   ]
  },
  {
   "cell_type": "code",
   "execution_count": 74,
   "id": "c09ba263-cdbf-4ab3-94c6-5a0b4740a02c",
   "metadata": {},
   "outputs": [
    {
     "data": {
      "text/plain": [
       "Index([1, 6, 8], dtype='int64')"
      ]
     },
     "execution_count": 74,
     "metadata": {},
     "output_type": "execute_result"
    }
   ],
   "source": [
    "s2[s2.isna()].index"
   ]
  },
  {
   "cell_type": "code",
   "execution_count": 75,
   "id": "7b286e66-a6f0-4bc7-9ba5-3ff2d1bcc2bd",
   "metadata": {},
   "outputs": [
    {
     "data": {
      "text/plain": [
       "0    False\n",
       "1     True\n",
       "2    False\n",
       "3    False\n",
       "4    False\n",
       "5    False\n",
       "6     True\n",
       "7    False\n",
       "8     True\n",
       "dtype: bool"
      ]
     },
     "execution_count": 75,
     "metadata": {},
     "output_type": "execute_result"
    }
   ],
   "source": [
    "s2.isnull()"
   ]
  },
  {
   "cell_type": "code",
   "execution_count": 76,
   "id": "f23ab9d2-b96e-464a-b881-38245e7cc0f4",
   "metadata": {},
   "outputs": [
    {
     "data": {
      "text/plain": [
       "True"
      ]
     },
     "execution_count": 76,
     "metadata": {},
     "output_type": "execute_result"
    }
   ],
   "source": [
    "s2.hasnans "
   ]
  },
  {
   "cell_type": "code",
   "execution_count": 77,
   "id": "5049b23d-1a9a-45d9-8491-eba973935f3a",
   "metadata": {},
   "outputs": [
    {
     "data": {
      "text/plain": [
       "0    23.0\n",
       "2    45.0\n",
       "3    67.0\n",
       "4    89.0\n",
       "5    98.0\n",
       "7    65.0\n",
       "dtype: float64"
      ]
     },
     "execution_count": 77,
     "metadata": {},
     "output_type": "execute_result"
    }
   ],
   "source": [
    "s2.dropna()"
   ]
  },
  {
   "cell_type": "code",
   "execution_count": 80,
   "id": "404a713c-f4da-4b99-bfb0-96951b1c35ed",
   "metadata": {},
   "outputs": [
    {
     "data": {
      "text/plain": [
       "0    23.0\n",
       "1    45.0\n",
       "2    67.0\n",
       "3    89.0\n",
       "4    98.0\n",
       "5    65.0\n",
       "dtype: float64"
      ]
     },
     "execution_count": 80,
     "metadata": {},
     "output_type": "execute_result"
    }
   ],
   "source": [
    "s2.dropna(ignore_index=True)"
   ]
  },
  {
   "cell_type": "code",
   "execution_count": 83,
   "id": "201b8638-d126-46f2-922e-e2d1be3d5b3c",
   "metadata": {},
   "outputs": [],
   "source": [
    "s2.dropna(inplace=True, ignore_index=True)"
   ]
  },
  {
   "cell_type": "code",
   "execution_count": 84,
   "id": "54c9fd4d-e130-43a7-b5b2-f5a686d8ad94",
   "metadata": {},
   "outputs": [
    {
     "data": {
      "text/plain": [
       "0    23.0\n",
       "1    45.0\n",
       "2    67.0\n",
       "3    89.0\n",
       "4    98.0\n",
       "5    65.0\n",
       "dtype: float64"
      ]
     },
     "execution_count": 84,
     "metadata": {},
     "output_type": "execute_result"
    }
   ],
   "source": [
    "s2"
   ]
  },
  {
   "cell_type": "code",
   "execution_count": 87,
   "id": "be8ab335-50ae-4c29-8a78-5c0d854e0b71",
   "metadata": {},
   "outputs": [
    {
     "data": {
      "text/plain": [
       "0    23.0\n",
       "1     NaN\n",
       "2    45.0\n",
       "3    67.0\n",
       "4    89.0\n",
       "5    98.0\n",
       "6     NaN\n",
       "7    65.0\n",
       "8     NaN\n",
       "dtype: float64"
      ]
     },
     "execution_count": 87,
     "metadata": {},
     "output_type": "execute_result"
    }
   ],
   "source": [
    "s2"
   ]
  },
  {
   "cell_type": "code",
   "execution_count": 88,
   "id": "5e4a69cf-d55c-4ff3-8a01-1f8efde1932d",
   "metadata": {},
   "outputs": [
    {
     "data": {
      "text/plain": [
       "64.5"
      ]
     },
     "execution_count": 88,
     "metadata": {},
     "output_type": "execute_result"
    }
   ],
   "source": [
    "s2.mean()"
   ]
  },
  {
   "cell_type": "code",
   "execution_count": 89,
   "id": "e48ba52e-3c2a-413c-98e1-6566700f0904",
   "metadata": {},
   "outputs": [
    {
     "data": {
      "text/plain": [
       "0    23.0\n",
       "1    45.0\n",
       "2    65.0\n",
       "3    67.0\n",
       "4    89.0\n",
       "5    98.0\n",
       "dtype: float64"
      ]
     },
     "execution_count": 89,
     "metadata": {},
     "output_type": "execute_result"
    }
   ],
   "source": [
    "s2.mode()"
   ]
  },
  {
   "cell_type": "code",
   "execution_count": 90,
   "id": "2c8835b0-5387-43c8-9c32-9d8815e68abe",
   "metadata": {},
   "outputs": [
    {
     "data": {
      "text/plain": [
       "66.0"
      ]
     },
     "execution_count": 90,
     "metadata": {},
     "output_type": "execute_result"
    }
   ],
   "source": [
    "s2.median()"
   ]
  },
  {
   "cell_type": "code",
   "execution_count": 91,
   "id": "f957b7cb-7f46-4747-8c43-edc39a9b45c8",
   "metadata": {},
   "outputs": [],
   "source": [
    "m=s2.mean()"
   ]
  },
  {
   "cell_type": "code",
   "execution_count": 92,
   "id": "300d1f66-486b-4e47-a536-8a51dfbfab15",
   "metadata": {},
   "outputs": [
    {
     "data": {
      "text/plain": [
       "64.5"
      ]
     },
     "execution_count": 92,
     "metadata": {},
     "output_type": "execute_result"
    }
   ],
   "source": [
    "m"
   ]
  },
  {
   "cell_type": "code",
   "execution_count": 93,
   "id": "be5310ef-fd23-48ba-9adb-ce906980d1c4",
   "metadata": {},
   "outputs": [
    {
     "data": {
      "text/plain": [
       "0    23.0\n",
       "1    23.0\n",
       "2    45.0\n",
       "3    67.0\n",
       "4    89.0\n",
       "5    98.0\n",
       "6    23.0\n",
       "7    65.0\n",
       "8    23.0\n",
       "dtype: float64"
      ]
     },
     "execution_count": 93,
     "metadata": {},
     "output_type": "execute_result"
    }
   ],
   "source": [
    "s2.fillna(23)"
   ]
  },
  {
   "cell_type": "code",
   "execution_count": 95,
   "id": "02f82a41-8cc4-45c0-a8b0-0fe44ed16874",
   "metadata": {},
   "outputs": [],
   "source": [
    "s2.fillna(s2.mean(), inplace=True)"
   ]
  },
  {
   "cell_type": "code",
   "execution_count": 96,
   "id": "ba11776d-2df5-4a5a-ac44-aa00d5a61d2c",
   "metadata": {},
   "outputs": [
    {
     "data": {
      "text/plain": [
       "0    23.0\n",
       "1    64.5\n",
       "2    45.0\n",
       "3    67.0\n",
       "4    89.0\n",
       "5    98.0\n",
       "6    64.5\n",
       "7    65.0\n",
       "8    64.5\n",
       "dtype: float64"
      ]
     },
     "execution_count": 96,
     "metadata": {},
     "output_type": "execute_result"
    }
   ],
   "source": [
    "s2"
   ]
  },
  {
   "cell_type": "code",
   "execution_count": 98,
   "id": "03055bb7-19f9-4797-bec2-fdfab0742389",
   "metadata": {},
   "outputs": [],
   "source": [
    "# Enumerate function"
   ]
  },
  {
   "cell_type": "code",
   "execution_count": 99,
   "id": "45356530-80fe-44b6-b1a7-8eb716567634",
   "metadata": {},
   "outputs": [
    {
     "data": {
      "text/plain": [
       "[12, 34, 56, 78]"
      ]
     },
     "execution_count": 99,
     "metadata": {},
     "output_type": "execute_result"
    }
   ],
   "source": [
    "li=[12,34,56,78]\n",
    "li"
   ]
  },
  {
   "cell_type": "code",
   "execution_count": 100,
   "id": "b0c257b9-2f56-45f8-b3a4-2ccd58f921d7",
   "metadata": {},
   "outputs": [
    {
     "name": "stdout",
     "output_type": "stream",
     "text": [
      "(0, 12)\n",
      "(1, 34)\n",
      "(2, 56)\n",
      "(3, 78)\n"
     ]
    }
   ],
   "source": [
    "for i in enumerate(li):\n",
    "    print(i)"
   ]
  },
  {
   "cell_type": "code",
   "execution_count": 101,
   "id": "9a2ab46b-351f-4823-a0da-c1ebc0a415bc",
   "metadata": {},
   "outputs": [
    {
     "name": "stdout",
     "output_type": "stream",
     "text": [
      "0 12\n",
      "1 34\n",
      "2 56\n",
      "3 78\n"
     ]
    }
   ],
   "source": [
    "for i,j in enumerate(li):\n",
    "    print(i,j)"
   ]
  },
  {
   "cell_type": "code",
   "execution_count": 102,
   "id": "0402940c-aaf0-4512-b39a-faef71550548",
   "metadata": {},
   "outputs": [],
   "source": [
    "di={'name':'Gurminder','Class':'btech','Roll':34}"
   ]
  },
  {
   "cell_type": "code",
   "execution_count": 103,
   "id": "505e1331-2026-4bb8-b8e2-1d5ac5bc15eb",
   "metadata": {},
   "outputs": [
    {
     "data": {
      "text/plain": [
       "{'name': 'Gurminder', 'Class': 'btech', 'Roll': 34}"
      ]
     },
     "execution_count": 103,
     "metadata": {},
     "output_type": "execute_result"
    }
   ],
   "source": [
    "di"
   ]
  },
  {
   "cell_type": "code",
   "execution_count": 106,
   "id": "2d238be5-94bd-4aba-ab7d-5b0336b137a7",
   "metadata": {},
   "outputs": [
    {
     "name": "stdout",
     "output_type": "stream",
     "text": [
      "(0, ('name', 'Gurminder'))\n",
      "(1, ('Class', 'btech'))\n",
      "(2, ('Roll', 34))\n"
     ]
    }
   ],
   "source": [
    "for i in enumerate(di.items()):\n",
    "    print(i)"
   ]
  },
  {
   "cell_type": "code",
   "execution_count": null,
   "id": "1f019e2b-8b3a-4476-ab6c-ffb36bf1daaf",
   "metadata": {},
   "outputs": [],
   "source": []
  }
 ],
 "metadata": {
  "kernelspec": {
   "display_name": "Python 3 (ipykernel)",
   "language": "python",
   "name": "python3"
  },
  "language_info": {
   "codemirror_mode": {
    "name": "ipython",
    "version": 3
   },
   "file_extension": ".py",
   "mimetype": "text/x-python",
   "name": "python",
   "nbconvert_exporter": "python",
   "pygments_lexer": "ipython3",
   "version": "3.11.4"
  }
 },
 "nbformat": 4,
 "nbformat_minor": 5
}
